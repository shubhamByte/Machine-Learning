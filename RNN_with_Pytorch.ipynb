{
  "nbformat": 4,
  "nbformat_minor": 0,
  "metadata": {
    "colab": {
      "provenance": [],
      "authorship_tag": "ABX9TyMSm+lHtbf4ldJaEUvwWLlA",
      "include_colab_link": true
    },
    "kernelspec": {
      "name": "python3",
      "display_name": "Python 3"
    },
    "language_info": {
      "name": "python"
    },
    "accelerator": "GPU",
    "gpuClass": "standard"
  },
  "cells": [
    {
      "cell_type": "markdown",
      "metadata": {
        "id": "view-in-github",
        "colab_type": "text"
      },
      "source": [
        "<a href=\"https://colab.research.google.com/github/shubhamByte/Machine-Learning/blob/main/RNN_with_Pytorch.ipynb\" target=\"_parent\"><img src=\"https://colab.research.google.com/assets/colab-badge.svg\" alt=\"Open In Colab\"/></a>"
      ]
    },
    {
      "cell_type": "code",
      "source": [
        "# !unzip /content/data.zip"
      ],
      "metadata": {
        "id": "u4Cn_XOX6Yc-"
      },
      "execution_count": null,
      "outputs": []
    },
    {
      "cell_type": "code",
      "source": [
        "import torch\n",
        "from torch import nn, optim\n",
        "from torchvision import datasets, transforms\n",
        "import torchvision\n",
        "from torch.utils.data.dataloader import DataLoader\n",
        "import random\n",
        "import torch.nn.functional as F\n",
        "\n",
        "import matplotlib.pyplot as plt\n",
        "import numpy as np"
      ],
      "metadata": {
        "id": "ewyW-amy8oYx"
      },
      "execution_count": null,
      "outputs": []
    },
    {
      "cell_type": "code",
      "source": [
        "device = torch.device(\"cuda\") if torch.cuda.is_available() else torch.device(\"cpu\")"
      ],
      "metadata": {
        "id": "drA6hR5_8zF2"
      },
      "execution_count": null,
      "outputs": []
    },
    {
      "cell_type": "markdown",
      "source": [
        "# Preprocessing the Data"
      ],
      "metadata": {
        "id": "a78xjMUh-jiF"
      }
    },
    {
      "cell_type": "code",
      "source": [
        "import glob\n",
        "import os\n",
        "from __future__ import unicode_literals, print_function, division\n",
        "from io import open\n",
        "import unicodedata\n",
        "import string\n"
      ],
      "metadata": {
        "id": "hO84pFtB9X-C"
      },
      "execution_count": null,
      "outputs": []
    },
    {
      "cell_type": "markdown",
      "source": [
        "### getting all the language path"
      ],
      "metadata": {
        "id": "LGakWrmY_KNk"
      }
    },
    {
      "cell_type": "code",
      "source": [
        "def findFiles(path): \n",
        "  return glob.glob(path)"
      ],
      "metadata": {
        "id": "dwpwC0lG-nnl"
      },
      "execution_count": null,
      "outputs": []
    },
    {
      "cell_type": "code",
      "source": [
        "findFiles('data/names/*.txt')"
      ],
      "metadata": {
        "colab": {
          "base_uri": "https://localhost:8080/"
        },
        "id": "EvkMVF5L-wMM",
        "outputId": "66a08d49-27f8-4501-d8ba-611c43e76e27"
      },
      "execution_count": null,
      "outputs": [
        {
          "output_type": "execute_result",
          "data": {
            "text/plain": [
              "['data/names/Greek.txt',\n",
              " 'data/names/Polish.txt',\n",
              " 'data/names/English.txt',\n",
              " 'data/names/Arabic.txt',\n",
              " 'data/names/Korean.txt',\n",
              " 'data/names/Spanish.txt',\n",
              " 'data/names/German.txt',\n",
              " 'data/names/Portuguese.txt',\n",
              " 'data/names/Vietnamese.txt',\n",
              " 'data/names/Irish.txt',\n",
              " 'data/names/Russian.txt',\n",
              " 'data/names/French.txt',\n",
              " 'data/names/Dutch.txt',\n",
              " 'data/names/Czech.txt',\n",
              " 'data/names/Italian.txt',\n",
              " 'data/names/Japanese.txt',\n",
              " 'data/names/Chinese.txt',\n",
              " 'data/names/Scottish.txt']"
            ]
          },
          "metadata": {},
          "execution_count": 7
        }
      ]
    },
    {
      "cell_type": "markdown",
      "source": [
        "### Unicode to Ascii"
      ],
      "metadata": {
        "id": "lN7md_7E_R4c"
      }
    },
    {
      "cell_type": "code",
      "source": [
        "all_letters = string.ascii_letters + \" .,;'\"\n",
        "n_letters = len(all_letters)\n",
        "\n",
        "def unicodeToAscii(s):\n",
        "    return ''.join(\n",
        "        c for c in unicodedata.normalize('NFD', s)\n",
        "        if unicodedata.category(c) != 'Mn'\n",
        "        and c in all_letters\n",
        "    )\n",
        "\n"
      ],
      "metadata": {
        "id": "m3YrNlD5-5ZM"
      },
      "execution_count": null,
      "outputs": []
    },
    {
      "cell_type": "code",
      "source": [
        "print(unicodeToAscii('Ślusàrski'))"
      ],
      "metadata": {
        "colab": {
          "base_uri": "https://localhost:8080/"
        },
        "id": "imgOO2Wd_gKK",
        "outputId": "dc00d292-b161-4e95-a09e-52eeb5fb56db"
      },
      "execution_count": null,
      "outputs": [
        {
          "output_type": "stream",
          "name": "stdout",
          "text": [
            "Slusarski\n"
          ]
        }
      ]
    },
    {
      "cell_type": "markdown",
      "source": [
        "### Language - name Dictionary"
      ],
      "metadata": {
        "id": "l94--Cc0_sNu"
      }
    },
    {
      "cell_type": "code",
      "source": [
        "language_words = {}\n",
        "all_languages = []\n",
        "\n",
        "def readwords(filename):\n",
        "    words = open(filename, encoding='utf-8').read().strip().split('\\n')\n",
        "    return [unicodeToAscii(name) for name in words]\n",
        "\n",
        "for filename in findFiles('/content/data/names/*.txt'):\n",
        "    language = os.path.splitext(os.path.basename(filename))[0]\n",
        "    all_languages.append(language)\n",
        "    words = readwords(filename)\n",
        "    language_words[language] = words\n",
        "\n",
        "n_languages = len(all_languages)"
      ],
      "metadata": {
        "id": "KZQHCfvh_8wL"
      },
      "execution_count": null,
      "outputs": []
    },
    {
      "cell_type": "code",
      "source": [
        "print(language_words['German'][:10])"
      ],
      "metadata": {
        "colab": {
          "base_uri": "https://localhost:8080/"
        },
        "id": "nSK8KfhxAEBP",
        "outputId": "7e5ab7df-c503-4c5a-c967-16c468cb2228"
      },
      "execution_count": null,
      "outputs": [
        {
          "output_type": "stream",
          "name": "stdout",
          "text": [
            "['Abbing', 'Abel', 'Abeln', 'Abt', 'Achilles', 'Achterberg', 'Acker', 'Ackermann', 'Adam', 'Adenauer']\n"
          ]
        }
      ]
    },
    {
      "cell_type": "markdown",
      "source": [
        "### Converting words to Tensor"
      ],
      "metadata": {
        "id": "7c2SX-LdAQ5V"
      }
    },
    {
      "cell_type": "code",
      "source": [
        "# Find letter index from all_letters, e.g. \"a\" = 0\n",
        "def letterToIndex(letter):\n",
        "    return all_letters.find(letter)\n",
        "\n",
        "# Turn a name into a <name_length x 1 x n_letters>,\n",
        "# or an array of one-hot letter vectors\n",
        "def wordToTensor(name):\n",
        "    tensor = torch.zeros(len(name), 1, n_letters)\n",
        "    for li, letter in enumerate(name):\n",
        "        tensor[li][0][letterToIndex(letter)] = 1\n",
        "    return tensor\n",
        "\n",
        "\n",
        "print(wordToTensor('Jones').size())"
      ],
      "metadata": {
        "colab": {
          "base_uri": "https://localhost:8080/"
        },
        "id": "5nkiCiioAU5i",
        "outputId": "664d7c12-7129-4052-a8c4-6706754392b7"
      },
      "execution_count": null,
      "outputs": [
        {
          "output_type": "stream",
          "name": "stdout",
          "text": [
            "torch.Size([5, 1, 57])\n"
          ]
        }
      ]
    },
    {
      "cell_type": "markdown",
      "source": [
        "### Splitting the DATA"
      ],
      "metadata": {
        "id": "GX5R4cOAAqHK"
      }
    },
    {
      "cell_type": "markdown",
      "source": [
        "![image.png](data:image/png;base64,iVBORw0KGgoAAAANSUhEUgAAAYcAAAAXCAYAAADgD4OJAAAAAXNSR0IArs4c6QAAAARnQU1BAACxjwv8YQUAAAAJcEhZcwAADsMAAA7DAcdvqGQAABIuSURBVHhe7Z0FlFRVGMcvJnZ3YwdiIIqKKHZgByZ21zHAwMDAANFjiwVioRgoeBAVVAzEAHNFUbG7xdbr9/vvu+ubtzM7s7ODs8j9nzOHufe9vfHdr+832sIbXERERERERArTJf9GRERERETUIRqHiIiIiIh6iMYhIiIiIqIe/jfG4e+//3Y///xz0oqIiIiIaAoaZRzeeOMNt+eee7q//vor6ak+PvnkE3f44Ye7ueee280222xunnnmcSeccIL7/PPPkzdKw4ABA9zuu++u73/++afr3Lmze+aZZ9TG8LD37777Tu18+OOPP/T+L7/8ovaECRPcJpts4iZOnKj2lMTvv//uttpqKzdy5Mikpziy6y0H0HjLLbd0I0aMSHqK49dff3UPP/yw5m8KPvvsM/faa68lrfKx//77u9tvvz1pNQ/89NNPOs8xY8YkPdUDa9lhhx3crbfemvTUx/fff++eeOKJpFUZMO+DDz5YVNcgqz169HCPP/540uMkc+iAzTbbzB133HGSxWzdzauvvuoOO+wwt80227hLLrmkQdnOgv1uvfXW0j1ZVGNcaM8+0VMVBdVKpcAOy6+88sp+iSWW8KaMkt7qgjXNO++8fumll/Ym4P7ll1/2119/vTcj4RdccEFvCiR5szh69uzpl1pqKX1nfwsttJAfNmyY2s8995yfaaaZ/KRJk9TOh969e2tOOzS1X3jhBT/DDDP4cePGqT0lYQrXzzHHHH7QoEFJT3Fk11sO3n//fT/XXHP5gQMHJj3FAZ05s8mTJyc9jcePP/6oM7700kuTnvKxxhpriBbNCd9++62fffbZ6/ivmmAt8EmvXr2SnlyYkfcrrbSS33XXXZOeysCUpF911VWL6pqHHnrIL7nkkloHeP75533Lli29OYm+S5cu4jXk8Mknn9RzMHbsWMnzcsst53faaSd9X2SRRaRPioF3VlllFSyNf+edd5LeWlRrXPa+wQYb+BtvvFHtSqGkyAHLtMIKK7g333wz6Wke6NevnzxfO3hFNKuvvro7+OCD5Tn89ttvrn///smbjcOMM87oPv30U1npiMIwoXSmPNw+++yT9BSH8VzyrXngpZdecieddFLSiigH1TpTcxIUIVx00UXODID6zGFw5iw6c1zcHXfc4T766CNnxkv9gMh1l112cVtssYUiz3vvvdeZU+m+/PLLBqMj8OKLL7o2bdq4mpqapOdfVHNc9n722We7U089Ve9XCkWNw+uvv67wzCyWQpfmBA4expxuutxtLLzwwmKY1VZbTW2MGimeoUOHunXWWccttthibt1113WPPPKInmdBqLrddtsp7WIRgMI5+kg7BSZLg7TE1VdfLUVJWEg4HEC4u/7662tO1nPTTTflCBPhYqdOnZxFZG6ZZZZxe+yxR9GUGMzBfhZffHEZxLvuuit5UgvCS4ugtFfe4bPeeuu5wYMH63mh9Q4fPlxrsQjKLbroohq7T58+BUN71gnT8nfgrLPOcqeddprCXosytecNN9xQewTXXHONu/nmm90PP/zgNt98c9EWoKDhMWjA3KQx3nrrLT3LgnB6xx13lBBceeWVbq+99pKDQHroiiuuEK0Zg3PiHVIO7IP9YMyYx7zLZLTatNJtt92m70899ZT2g9C1bdtW619rrbXc3XffXbICRCFBQ4Q3gPNAdpgLPoJufMfhMg/QLbvssnJuGpsKTYOUxFFHHeXM+9SYKMjtt9/evfvuu3qOImVdjz76qNt5551FC+aFt3GkAqD7pptuKnox1i233JI8qQ/2ctBBB7kPP/xQDiRnGvaAbJk3K94zj9cdeuihOSlMzp55eM558bekbsHpp5/uLFp37733nvj87bffVn8W9913n8ZENwVAB4v6nUXSas8yyyya45tvvlGb9eH4QauZZ55Zfcsvv7z4Bv4E8Dvnc+CBB6oNoAv0gx/gj6zOqea4oF27ds4iCumXSqGocYDQHBSCZyFa0ts8sPfee0tod9ttN2chVY5Cgem33XZbfUcwYF48XPpQHPPNN58s8gcffKB30kCY2TMMxZ45uBYtWkjBItBZwNwIGoeDMkSwAi688ELdX1x22WV6j3W98soreoYwdOjQQZFK79693ZlnnilBII9fKCdvoaQMF/cM/A2REoqH/gCU/ZFHHinhvPzyy90555yj8WAwFEG+9ZLnREHNOeec7uKLL5ZR4L3u3bvnKNM0UL7PPvus++KLL3QOGOHrrrtOQouAn3feedoP41IswJwoLfa70UYbibYYDvY7efJk7adnz55SaOwxrWADWDOCgRAxHkaesxk3bpw8JxQOBooz69u3rz7MjzEkQoBHUGgBGCacDPD111/LmEOvAw44QEaOe6z99tsv71rygX1BE/gnAP5DaDFSgDNDeZ588skScAwcZ3bKKafoeTngbO+55x7dv1177bX6d/To0aIFQJE//fTTkhmMMPyIkcWJuPPOO/UOe4RXUUjsHb7iPeiSD9AdI4oCnn/++V3Hjh1dy5YtNQ9RN2fN3+PdP/bYYxobBQnvoiD5e87n/PPPd5MmTXJdunQRH7du3Vq8Ae0ZMyj6LFg35xyUJmAOeAEnhHPFIeIsgi5A3llDq1at1AbTTz+9eCoYUgCP8glAXwwbNkyO2AILLJD0/otqj4vccp7IUFPuEXNgQl0yTGia1Z2DKXHdMZjH7Y3RlK8j/2gC4U0pJW/V5ux4ls6bmiB4Owy/7777apz0nYMpUG+H5k1g1TbmUp6vnDsHE1S1gXk1ypUPTHL0psDr0dOUpTdm9xY+Jj25sIhIY6TzkuRdjWHq7hz69eunfKspBLUB75CLNYFRO7vekSNHehNob16K2oCcJnNxn5MP0IPnAwYMEA0tsvKmKPyECROSN7w3Y6G1TZw4UW0Lf3PuHEyJ6czSdxD8PXcZpjyTnlxk7xygnylebx6iN8FQnwmU79atmzfFpLUFsG/OPcCiOW8GXN/vv/9+8ZEpMrXB+PHjvRkiP2bMmKSnYUBzcuWm8OvmNW9dNODMzOHwZqy8RRh6FmCC7du3b6/v5Pkbc+dAzvmQQw4RrdNgnjZt2ug788LDnFFYFzTnbs0iNbXNUInugUfAkCFDtPaG7hxWXHHFujsH2htvvLHOAzkKGDVqlOavqakRj3FH1r9//+Sp9xa1eXPWvDkpahe7c0CWWDs6KQ3eP/bYYyXv4dO1a9c6vjDHRWeclWWLQr0p7aTVMEaMGCGeSMtgcxiXs+JdMyhJT9NQNHJozjBCyAvDgpJqIXTFQ8LrJc+Yrt7B2uI1BeDpUBFCpU0l83RZrLnmmsk3J68KzxcvGQ8ebwqv54wzzpDXyId7EvqCN5cGHgQ5R9JTeGUBhKWmLJOWc6YolA4g8sGbx2smJ2nnrTHygfD9gQce0PoI50k94XHjhUDTUoFXSsoigJQCKBQJ4dUREs8666xJj1N0RpSG59sYcOasHxBZkFokesEjxpu84IILdE9lylHvFAJhe4ApS9GtVB6Bz4gO8QZJBzAX3rEpOtGGajrSWHiyPCeiPfHEE7XXYusqBHLO7Av+poqLyIXIDf7Knh1pNeQG4MGSgiWyAUSI8BXptABT9M6ciKRVHF999ZVSRniyRMKBr4lqWAsyyXhEfURwyCBRFCksvGdSYqWAqIAUoxmmpKcW7Bta8C9VSueee67SgqyFcwwINAgIdxZNRTXHJbrgPdK2lcBUbRzSIBQlpUEYBuPA9AhdAMoirYAAQoDyK6S4KoGgrNKASc3DUX4UBW4Wv+6DUiHNY55jDjMD2ryPYWM/AXxPh6oYS+4vGIfcP6mh7N6zwGiQEgk58JAfT49bCthvem1Zpk4DZUgaIV+6khC7sb9bYY/p+VC40IAP6QdSHKUouvT6ywEpKehGye7HH38sJY2SCrQk1Qd/kgtH+VpU1ygFnA+krTg7xiTlgAGCT7JIp2BAml4oW/guDVJGGMhSwZlhSHEw0nzNXQdGHz6DvrQt2pBzxj0PayftW6oswjfwJ8Y2gPTmDTfcUJfSZD7unHAKrrrqKhWqYLRAdh4ciCxtGoPmMC4OIudZyAFsLKZa48BlKvch5KjTwHNDsXB5jGAG5PP+YBZ+H5FPgU9pMCdCx6Uxdw9UKqQ/3KFkFStCxZ7xONMeIUo2tGGMI444QvulTh5PElo1lM/mXfLL5N8HDRqkC0a8Sby9Snk++cB+oD9CnQVnVyjXXArYM3cFKAiiSjxa6IZCmtJAwbZv315KkUo6jBYeO6AyhbPA+OLZopA5f4x4ueC+qFu3brqAZiz2jnJOR62lAGOCw5IGMhMii1KAMSFC5v4gy9N8jjnmGL1Hrp3oGGcHviMDQOQAz5UCaIqsE4UHwEcYJyp/0sBY4ozhOHKPBt8hFwFBVpCtctEcxg36DbpUAlOtcUBxwPxUrKQvZgJQCOn0AEqTlExA8Oi4DISZG0JD3m8AB9gYYPW5PB07dmzOhR974YKWUDgL5sArRQGECiDAPsKFNJEQFWZ4ynxgIJiFlBFMFbyK9HoxLlRmwYiE+URUGC+EFYZLG6KmgnlZRwCCCw1Q3gHjx49XaoJIpiGkx8kCRcEZU5lDSgdlhIIIdGjobyuBrl27Kr1DNMs+UJoAg8AZcI6k3HAQWCfptXLpDM9gZCiwwBhicFGa0JW5St0r68SooKwDuKBPK6Z8SJ8pjhkOD2nJdHqDtB58zdliIOE1+Ja1Ise9evUSLYIhyvJJFkSDeNXpIhSiJsbI/hiUtBUyzpxEbMxJZVBI48ErpPfSaefGojmMi1PHO9nor1xUxDjgqVJd8l8Cj5aKBAiBgiGnjkLll86EqeRPyeUHwGhUbhBuEnJT4cTfNuRRByDYCC4hKwKfDygfvC7WhPIuBXhRCAFeJncNfBBwBIhKo3zAGybPSskrqQRSFBi4YMDwqMjXjxo1yhFKEwnwHEUP4xCOgvR6uZcgB04kBc2gI57o0UcfrfUVqlYpB6QBMGSsB6UI7zAHiolzgcbQgLQYa8gHjB1nQjqGKp98ShXlgXNAKgmeQLgo26VWnBA9GNPGAsXJnQ/rbwgYWRwYPDyqksL54NWiqKAtY5Af576HO6hCaTSqh5iTCqJ84K6FtBRVVihl+IgqLgwGRiIbMRcCJcQ4FFQawRdUPR1//PENRtbsi7QgCp9IgD1QfUT0wjicKXdelJtSuYZBDMaaO0KqpeBRIn3GonoOkGbC02fMtOMQwJzQhHkDUKJEIKwb2SIKobya9SA3zE3qhTb7o3oNeqEL4Ccq/AAGFaeiMVFmNccNwCjiDIZ0Iu/jgJYNU5olwwTXmxKp+zViANUBVBpUA8aMqvrhV5pUvVC5ZCG8N4WXvFFbrWQKxZvS8+al6D0jWk5lDhU+ZuD0nf3xfPTo0WqbcKnyg8oiU8o51S8BJoj6G97p0aOHNwPhTUBzKneopDBF4AcPHpz01P7KuGPHjqqUYl08N88/eZofpqx9586d9T6/WjdvWHNT7QBMmdStBXpQOUP1FmOHCp/seoF5s/q1OWvp1KmTqib4W843H6CfCbMfOnSo2mZoRZ80f/CL1Xbt2nnzSNWmEqZ169aal/MA5vlqvnB+5hF5Uwh6VghU1rRq1UpVMeyX6qxsZZIZAr/22muriskUg6qfqAbjXCxS0jusl2orYF6yb9u2rTfPTG1A9Yx5wt6UkNr84p11ZiuD8oEKH84pC1Na4lfWxfnxy9YhQ4aID6gqMo/bd+jQQRU8gP3xfvfu3dXOh+HDh4uujEn1UJ8+fVSBRgUUvMiYfA9nBTgnzpeKsQDmp3qJPZpxVWWdKTRvjkjyRn2YAdSc8I0ZT/VBJ+jMOPAUdEjTleobKpIC35tDk/NfE6ipqdGYPONc8sEcI/GAOQdJT20FI5U8gb7sgXNIvwP69u2r8eFD5g7VdIB34Sf4MB/YLzyRruoKqMa4wJwdyQ5VlwHIIxWI5WKa+J/9EEXgnRPSc9kaEdEUcMlJhRif/wr8uA6vPP0bjWkdRCf8doRok5TVtAwyGkTG3KsRVVQCU+2dQ0RENUDKkDQPP876r0BajxQiqZeIf0GKklQa6cdwlzYtAv+eH7+RAqyUYQDThHGghJBc3JSsvImYNkA9PnnySlWElALy81yqNqV66/8KqqK4Wyp0FzgtgJJt7qzCr+Erhfj/kI6IiIiIqIeYVoqIiIiIqIdoHCIiIiIiMnDuHwl7mBABkCgjAAAAAElFTkSuQmCC)"
      ],
      "metadata": {
        "id": "UO_0wkROAihi"
      }
    },
    {
      "cell_type": "code",
      "source": [
        "language_words_train = {}\n",
        "language_words_val   = {}\n",
        "language_words_test  = {}\n",
        "\n",
        "for languages in all_languages:\n",
        "\n",
        "  random.shuffle(language_words[languages])\n",
        "\n",
        "  # Calculate the sizes of each name list \n",
        "  total_size = len(language_words[languages])\n",
        "  a_size = int(total_size * 0.8)\n",
        "  b_size = int(total_size * 0.1)\n",
        "  c_size = total_size - a_size - b_size\n",
        "\n",
        "  language_words_train[languages] = language_words[languages][:a_size]\n",
        "  language_words_val[languages] = language_words[languages][a_size:a_size+b_size]\n",
        "  language_words_test[languages] = language_words[languages][a_size+b_size:]"
      ],
      "metadata": {
        "id": "iyypeU_xAfes"
      },
      "execution_count": null,
      "outputs": []
    },
    {
      "cell_type": "markdown",
      "source": [
        "![image.png](data:image/png;base64,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)"
      ],
      "metadata": {
        "id": "ZX1efgNeIyvg"
      }
    },
    {
      "cell_type": "markdown",
      "source": [
        "# RNN MODEL"
      ],
      "metadata": {
        "id": "MomOZR_ICD5v"
      }
    },
    {
      "cell_type": "markdown",
      "source": [
        "### Hyperparameters"
      ],
      "metadata": {
        "id": "WfidKLC7CKPI"
      }
    },
    {
      "cell_type": "code",
      "source": [
        "input_size = 57\n",
        "hidden_size = 256\n",
        "output_size = 18\n",
        "learning_rate = 0.004\n",
        "\n",
        "n_epoch = 10\n"
      ],
      "metadata": {
        "id": "BTxf6DfcCJsN"
      },
      "execution_count": null,
      "outputs": []
    },
    {
      "cell_type": "code",
      "source": [
        "class RNN(nn.Module):\n",
        "    def __init__(self):\n",
        "        super(RNN, self).__init__()\n",
        "\n",
        "        self.hidden_size = hidden_size\n",
        "\n",
        "        self.i2h = nn.Linear(input_size + hidden_size, hidden_size)\n",
        "        self.i2o = nn.Linear(input_size + hidden_size, output_size)\n",
        "        self.softmax = nn.LogSoftmax(dim=1)\n",
        "\n",
        "    def forward(self, input, hidden):\n",
        "        combined = torch.cat((input, hidden), 1)\n",
        "        hidden = self.i2h(combined)\n",
        "        output = self.i2o(combined)\n",
        "        output = self.softmax(output)\n",
        "        return output, hidden\n",
        "\n",
        "    def initHidden(self):\n",
        "        return torch.zeros(1, self.hidden_size)\n",
        "\n",
        "\n",
        "rnn = RNN().to(device)"
      ],
      "metadata": {
        "id": "8YesRommCCZ4"
      },
      "execution_count": null,
      "outputs": []
    },
    {
      "cell_type": "code",
      "source": [
        "criterion = nn.NLLLoss()"
      ],
      "metadata": {
        "id": "VYD5gMDS9QzU"
      },
      "execution_count": null,
      "outputs": []
    },
    {
      "cell_type": "code",
      "source": [
        "def randomChoice(l):\n",
        "    return l[random.randint(0, len(l) - 1)]\n",
        "\n",
        "def randomTrainingExample():\n",
        "    language = randomChoice(all_languages)\n",
        "    word = randomChoice(language_words_train[language])\n",
        "    language_tensor = torch.tensor([all_languages.index(language)], dtype=torch.long)\n",
        "    word_tensor = wordToTensor(word)\n",
        "    return language_tensor, word_tensor\n"
      ],
      "metadata": {
        "id": "KRnfER0d9-V9"
      },
      "execution_count": null,
      "outputs": []
    },
    {
      "cell_type": "code",
      "source": [
        "\n",
        "\n",
        "# Keep track of losses for plotting\n",
        "current_loss = 0\n",
        "loss_list = []\n",
        "loss_list_val = []\n",
        "epoch = 0\n",
        "\n",
        "for iter in range(0, n_epoch * 16000):\n",
        "\n",
        "    label_tensor, word_tensor = randomTrainingExample()\n",
        "\n",
        "    hidden = rnn.initHidden()\n",
        "\n",
        "    label_tensor, word_tensor, hidden = label_tensor.to(device), word_tensor.to(device), hidden.to(device)\n",
        "    rnn.zero_grad()\n",
        "\n",
        "    for i in range(word_tensor.size()[0]):\n",
        "        output, hidden = rnn(word_tensor[i], hidden)\n",
        "\n",
        "    loss = criterion(output, label_tensor)\n",
        "    loss.backward()\n",
        "\n",
        "    for p in rnn.parameters():\n",
        "        p.data.add_(p.grad.data, alpha=-learning_rate)\n",
        "\n",
        "    loss =  loss.item()\n",
        "    current_loss += loss\n",
        "\n",
        "    if iter %  16000 == 15999:    \n",
        "        print(f'[epoch : {epoch + 1}] training loss: {current_loss / 8000:.3f}')\n",
        "        epoch  += 1\n",
        "        \n",
        "        loss_list.append(current_loss / 8000)\n",
        "        current_loss = 0.0\n",
        "\n",
        "        val_loss_list = []\n",
        "        val_correct = 0\n",
        "        total_val = 0\n",
        "        with torch.no_grad():\n",
        "            for lang in all_languages:\n",
        "                for word in language_words_val[lang]:\n",
        "                    label_tensor = torch.tensor([all_languages.index(lang)], dtype=torch.long, device=device)\n",
        "                    word_tensor = wordToTensor(word).to(device)\n",
        "\n",
        "                    hidden = rnn.initHidden()\n",
        "\n",
        "                    label_tensor, word_tensor, hidden = label_tensor.to(device), word_tensor.to(device), hidden.to(device)\n",
        "                    for i in range(word_tensor.size()[0]):\n",
        "                        output, hidden = rnn(word_tensor[i], hidden)\n",
        "\n",
        "                    val_loss = criterion(output, label_tensor)\n",
        "                    val_loss_list.append(val_loss.item())\n",
        "\n",
        "                    _, predicted = torch.max(output, 1)\n",
        "\n",
        "                    if predicted == label_tensor:\n",
        "                        val_correct += 1\n",
        "                    total_val += 1\n",
        "\n",
        "            avg_val_loss = sum(val_loss_list) / len(val_loss_list)\n",
        "            loss_list_val.append(avg_val_loss)\n",
        "            val_accuracy = val_correct * 100 / total_val\n",
        "            # accuracy_list_val.append(val_accuracy)\n",
        "            print(f'Validation loss: {avg_val_loss:.3f}, Validation accuracy: {val_accuracy:.3f} %')\n",
        "            print('--------------------------------------------')"
      ],
      "metadata": {
        "colab": {
          "base_uri": "https://localhost:8080/"
        },
        "id": "n1cBeCgz7mo4",
        "outputId": "7f438827-dba4-48af-e4a8-4b788cbc4697"
      },
      "execution_count": null,
      "outputs": [
        {
          "output_type": "stream",
          "name": "stdout",
          "text": [
            "[epoch : 0] training loss: 5.597\n",
            "Validation loss: 2.501, Validation accuracy: 46.096 %\n",
            "[epoch : 1] training loss: 4.880\n",
            "Validation loss: 2.390, Validation accuracy: 36.737 %\n",
            "[epoch : 2] training loss: 4.390\n",
            "Validation loss: 2.137, Validation accuracy: 38.539 %\n",
            "[epoch : 3] training loss: 3.983\n",
            "Validation loss: 2.034, Validation accuracy: 34.735 %\n",
            "[epoch : 4] training loss: 3.706\n",
            "Validation loss: 2.035, Validation accuracy: 35.786 %\n",
            "[epoch : 5] training loss: 3.480\n",
            "Validation loss: 1.854, Validation accuracy: 40.941 %\n",
            "[epoch : 6] training loss: 3.250\n",
            "Validation loss: 1.642, Validation accuracy: 47.698 %\n",
            "[epoch : 7] training loss: 3.096\n",
            "Validation loss: 1.729, Validation accuracy: 43.994 %\n",
            "[epoch : 8] training loss: 2.942\n",
            "Validation loss: 1.557, Validation accuracy: 51.902 %\n",
            "[epoch : 9] training loss: 2.818\n",
            "Validation loss: 1.657, Validation accuracy: 47.447 %\n"
          ]
        }
      ]
    },
    {
      "cell_type": "markdown",
      "source": [
        "# Loss Curves"
      ],
      "metadata": {
        "id": "QFIoS7mvjZbJ"
      }
    },
    {
      "cell_type": "code",
      "source": [
        "x_values = range(len(loss_list)) \n",
        "plt.plot(x_values,loss_list)\n",
        "plt.xlabel('Epoch')\n",
        "plt.ylabel('loss')\n",
        "plt.title('Training Loss')\n",
        "plt.show()"
      ],
      "metadata": {
        "colab": {
          "base_uri": "https://localhost:8080/",
          "height": 295
        },
        "id": "MISmPj_WTxHX",
        "outputId": "d47b66a1-3045-4411-bd08-cfcf340ebb4c"
      },
      "execution_count": null,
      "outputs": [
        {
          "output_type": "display_data",
          "data": {
            "text/plain": [
              "<Figure size 432x288 with 1 Axes>"
            ],
            "image/png": "[encoded data removed]"
          },
          "metadata": {
            "needs_background": "light"
          }
        }
      ]
    },
    {
      "cell_type": "code",
      "source": [
        "x_values = range(len(loss_list_val)) \n",
        "plt.plot(x_values,loss_list_val)\n",
        "plt.xlabel('Epoch')\n",
        "plt.ylabel('loss')\n",
        "plt.title('Validation Loss')\n",
        "plt.show()"
      ],
      "metadata": {
        "colab": {
          "base_uri": "https://localhost:8080/",
          "height": 295
        },
        "id": "Y9WnYkIAjo9O",
        "outputId": "c6870e74-dbb8-4996-ee7b-f830e2ed6b16"
      },
      "execution_count": null,
      "outputs": [
        {
          "output_type": "display_data",
          "data": {
            "text/plain": [
              "<Figure size 432x288 with 1 Axes>"
            ],
            "image/png": "[encoded data removed]"
          },
          "metadata": {
            "needs_background": "light"
          }
        }
      ]
    },
    {
      "cell_type": "code",
      "source": [
        "torch.save(rnn.state_dict(), 'model.pt')"
      ],
      "metadata": {
        "id": "QVA4cib4jx87"
      },
      "execution_count": null,
      "outputs": []
    },
    {
      "cell_type": "markdown",
      "source": [
        "![image.png](data:image/png;base64,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)"
      ],
      "metadata": {
        "id": "Y0OuVyVYI8q8"
      }
    },
    {
      "cell_type": "markdown",
      "source": [
        "# Confusion Matrix on Validation data"
      ],
      "metadata": {
        "id": "eGRT6DWTkRst"
      }
    },
    {
      "cell_type": "code",
      "source": [
        "true_labels = []\n",
        "predicted_labels = []\n",
        "\n",
        "with torch.no_grad():\n",
        "    for lang in all_languages:\n",
        "        for word in language_words_val[lang]:\n",
        "            label_tensor = torch.tensor([all_languages.index(lang)], dtype=torch.long, device=device)\n",
        "            word_tensor = wordToTensor(word).to(device)\n",
        "\n",
        "            hidden = rnn.initHidden()\n",
        "\n",
        "            label_tensor, word_tensor, hidden = label_tensor.to(device), word_tensor.to(device), hidden.to(device)\n",
        "            for i in range(word_tensor.size()[0]):\n",
        "                output, hidden = rnn(word_tensor[i], hidden)\n",
        "\n",
        "            _, predicted = torch.max(output, 1)\n",
        "\n",
        "            true_labels.append(label_tensor.item())\n",
        "            predicted_labels.append(predicted.item())"
      ],
      "metadata": {
        "id": "o9HJd-8EkNAI"
      },
      "execution_count": null,
      "outputs": []
    },
    {
      "cell_type": "code",
      "source": [
        "from sklearn.metrics import confusion_matrix\n",
        "from sklearn.metrics import classification_report\n",
        "\n",
        "print(confusion_matrix(true_labels,predicted_labels))\n",
        "\n",
        "print('-------------------------------------\\n\\n')\n",
        "\n",
        "print(classification_report(true_labels,predicted_labels))"
      ],
      "metadata": {
        "colab": {
          "base_uri": "https://localhost:8080/"
        },
        "id": "kX83zJfUnTvc",
        "outputId": "6fce6c77-128b-482c-9c9d-57342255aacc"
      },
      "execution_count": null,
      "outputs": [
        {
          "output_type": "stream",
          "name": "stdout",
          "text": [
            "[[ 14   1   0   0   1   0   0   0   0   0   1   2   0   0   0   1   0   0]\n",
            " [  0   7   0   0   0   1   0   0   0   0   0   0   1   4   0   0   0   0]\n",
            " [  6  18  33  29   8   8  21  19  11  24   7  61  35  21   1   6   5  53]\n",
            " [  3   3   0 150   2   1   2   4   3   3   0   0   2   7   0  15   1   4]\n",
            " [  0   0   0   0   2   0   0   1   3   0   0   0   0   0   0   0   3   0]\n",
            " [  1   0   0   1   1   6   0   8   0   3   0   2   1   0   4   1   1   0]\n",
            " [  0   2   1   5   2   3  25   1   2   2   0   3  12   1   0   2   5   6]\n",
            " [  0   0   1   0   0   2   0   1   0   0   0   0   3   0   0   0   0   0]\n",
            " [  0   0   0   0   3   0   0   0   2   0   0   0   0   0   0   0   2   0]\n",
            " [  0   0   0   2   1   1   0   1   1  10   0   2   2   0   1   1   0   1]\n",
            " [ 13  59   5  59   3  10  20  17   8  27 543  32  24  38  12  22   6  42]\n",
            " [  2   1   0   5   1   0   2   3   0   2   0   7   1   0   0   1   0   2]\n",
            " [  1   1   2   4   0   0   2   1   0   0   2   4   9   2   1   0   0   0]\n",
            " [  1  10   1   2   2   2   2   3   0   1   1   4   5  12   0   2   0   3]\n",
            " [  1   1   0   3   0   7   1  10   1   1   0   3   0   3  36   1   2   0]\n",
            " [  1   1   0  11   0   0   0   8   1   2   2   0   0   1   3  67   2   0]\n",
            " [  0   0   0   0   4   0   0   0   1   0   0   0   0   0   0   0  21   0]\n",
            " [  1   0   0   1   0   0   0   0   0   0   1   3   0   0   0   0   1   3]]\n",
            "-------------------------------------\n",
            "\n",
            "\n",
            "              precision    recall  f1-score   support\n",
            "\n",
            "           0       0.32      0.70      0.44        20\n",
            "           1       0.07      0.54      0.12        13\n",
            "           2       0.77      0.09      0.16       366\n",
            "           3       0.55      0.75      0.64       200\n",
            "           4       0.07      0.22      0.10         9\n",
            "           5       0.15      0.21      0.17        29\n",
            "           6       0.33      0.35      0.34        72\n",
            "           7       0.01      0.14      0.02         7\n",
            "           8       0.06      0.29      0.10         7\n",
            "           9       0.13      0.43      0.20        23\n",
            "          10       0.97      0.58      0.73       940\n",
            "          11       0.06      0.26      0.09        27\n",
            "          12       0.09      0.31      0.15        29\n",
            "          13       0.13      0.24      0.17        51\n",
            "          14       0.62      0.51      0.56        70\n",
            "          15       0.56      0.68      0.61        99\n",
            "          16       0.43      0.81      0.56        26\n",
            "          17       0.03      0.30      0.05        10\n",
            "\n",
            "    accuracy                           0.47      1998\n",
            "   macro avg       0.30      0.41      0.29      1998\n",
            "weighted avg       0.74      0.47      0.52      1998\n",
            "\n"
          ]
        }
      ]
    },
    {
      "cell_type": "code",
      "source": [
        "import seaborn as sns\n",
        "\n",
        "cf_matrix = confusion_matrix(true_labels,predicted_labels)\n",
        "cf_matrix = cf_matrix.astype(np.float32)\n",
        "\n",
        "# Normalising the matrix\n",
        "for i in range(18):\n",
        "    for j in range(18):\n",
        "        cf_matrix[i][j] = cf_matrix[i][j] / cf_matrix[i].sum()\n",
        "\n",
        "        \n",
        "sns.heatmap(cf_matrix, cmap='Blues')"
      ],
      "metadata": {
        "colab": {
          "base_uri": "https://localhost:8080/",
          "height": 282
        },
        "id": "hDWP2KccqSaF",
        "outputId": "63d6c178-c64f-4a61-d5d2-516ae3dbe732"
      },
      "execution_count": null,
      "outputs": [
        {
          "output_type": "execute_result",
          "data": {
            "text/plain": [
              "<AxesSubplot:>"
            ]
          },
          "metadata": {},
          "execution_count": 72
        },
        {
          "output_type": "display_data",
          "data": {
            "text/plain": [
              "<Figure size 432x288 with 2 Axes>"
            ],
            "image/png": "[encoded data removed]"
          },
          "metadata": {
            "needs_background": "light"
          }
        }
      ]
    },
    {
      "cell_type": "markdown",
      "source": [
        "\n",
        "\n",
        "---\n",
        "\n",
        "\n",
        "\n",
        "---\n",
        "\n"
      ],
      "metadata": {
        "id": "zGCwPkrUJGlA"
      }
    }
  ]
}