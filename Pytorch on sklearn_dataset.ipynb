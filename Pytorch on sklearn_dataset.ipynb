{
  "nbformat": 4,
  "nbformat_minor": 0,
  "metadata": {
    "colab": {
      "provenance": [],
      "authorship_tag": "ABX9TyOpfXoQ8N+ST/SINImb4eSI",
      "include_colab_link": true
    },
    "kernelspec": {
      "name": "python3",
      "display_name": "Python 3"
    },
    "language_info": {
      "name": "python"
    }
  },
  "cells": [
    {
      "cell_type": "markdown",
      "metadata": {
        "id": "view-in-github",
        "colab_type": "text"
      },
      "source": [
        "<a href=\"https://colab.research.google.com/github/shubhamByte/Machine-Learning/blob/main/Pytorch%20on%20sklearn_dataset.ipynb\" target=\"_parent\"><img src=\"https://colab.research.google.com/assets/colab-badge.svg\" alt=\"Open In Colab\"/></a>"
      ]
    },
    {
      "cell_type": "code",
      "source": [
        "import torch\n",
        "import torch.nn as nn\n",
        "import torch.optim as optim\n",
        "import numpy as np\n",
        "from sklearn.datasets import load_iris\n",
        "from sklearn.model_selection import train_test_split\n",
        "from sklearn.metrics import accuracy_score\n",
        "from matplotlib import pyplot as plt"
      ],
      "metadata": {
        "id": "37_qRCTtWNno"
      },
      "execution_count": 99,
      "outputs": []
    },
    {
      "cell_type": "code",
      "execution_count": 100,
      "metadata": {
        "id": "5DPAu-SgV44N"
      },
      "outputs": [],
      "source": [
        "# loading the dataset and splitting\n",
        "iris_dataset = load_iris()\n",
        "X = iris_dataset.data\n",
        "y = iris_dataset.target\n",
        "X_train, X_test, y_train, y_test = train_test_split(X, y, test_size=0.15)"
      ]
    },
    {
      "cell_type": "code",
      "source": [
        "# Convert data to PyTorch tensors         datatype should be same as given otherwise \n",
        "X_train = torch.tensor(X_train, dtype=torch.float32)\n",
        "y_train = torch.tensor(y_train, dtype=torch.int64)\n",
        "X_test = torch.tensor(X_test, dtype=torch.float32)\n",
        "y_test = torch.tensor(y_test, dtype=torch.int64)"
      ],
      "metadata": {
        "id": "sGb4avYBm_k1"
      },
      "execution_count": 101,
      "outputs": []
    },
    {
      "cell_type": "code",
      "source": [
        "y_train[2].dtype"
      ],
      "metadata": {
        "colab": {
          "base_uri": "https://localhost:8080/"
        },
        "id": "XLrsxbfviANd",
        "outputId": "320a6254-173a-4cc1-c783-92f21fae05de"
      },
      "execution_count": 102,
      "outputs": [
        {
          "output_type": "execute_result",
          "data": {
            "text/plain": [
              "torch.int64"
            ]
          },
          "metadata": {},
          "execution_count": 102
        }
      ]
    },
    {
      "cell_type": "code",
      "source": [
        "input_size, hidden_size1, hidden_size2, output_size, num_epochs = 4, 4, 5, 3, 100"
      ],
      "metadata": {
        "id": "lHYNm5gkY7QG"
      },
      "execution_count": 103,
      "outputs": []
    },
    {
      "cell_type": "code",
      "source": [
        "class NeuralNetwork(nn.Module):\n",
        "    def __init__(self):\n",
        "        super(NeuralNetwork, self).__init__()\n",
        "        self.layer1 = nn.Linear(input_size, hidden_size1)\n",
        "        self.layer2 = nn.Linear(hidden_size1, hidden_size2)\n",
        "        self.output = nn.Linear(hidden_size2, output_size)\n",
        "        self.activation1 = nn.ReLU()\n",
        "        self.activation2 = nn.Sigmoid()\n",
        "    \n",
        "    def forward(self, x):\n",
        "        x = self.layer1(x)\n",
        "        x = self.activation1(x)\n",
        "        x = self.layer2(x)\n",
        "        x = self.activation1(x)\n",
        "        x = self.output(x)\n",
        "        x = self.activation2(x)\n",
        "        return x"
      ],
      "metadata": {
        "id": "Z0ERY7SRWVNU"
      },
      "execution_count": 104,
      "outputs": []
    },
    {
      "cell_type": "code",
      "source": [
        "model = NeuralNetwork()\n",
        "\n",
        "optimizer = optim.Adam(model.parameters(), lr = 0.01) \n",
        "criterion = nn.CrossEntropyLoss()\n",
        "\n",
        "training_loss_list = []\n",
        "testing_loss_list =[]\n",
        "\n",
        "best_loss = 10000\n",
        "early_stopping = 5\n",
        "no_improvement_count = 0"
      ],
      "metadata": {
        "id": "E_JSeld_zjcB"
      },
      "execution_count": 105,
      "outputs": []
    },
    {
      "cell_type": "code",
      "source": [
        "for epoch in range(num_epochs):\n",
        "\n",
        "    optimizer.zero_grad()\n",
        "    yhat = model(X_train)\n",
        "    loss = criterion(yhat, y_train)\n",
        "    loss.backward()\n",
        "    optimizer.step()\n",
        "\n",
        "    # Calculate train loss and accuracy\n",
        "    train_loss = loss.item()\n",
        "    train_pred = model(X_train).argmax(dim=1)\n",
        "    train_accuracy = (train_pred == y_train).float().mean().item()\n",
        "    \n",
        "    # Calculate test loss and accuracy\n",
        "    test_output = model(X_test)\n",
        "    test_loss = criterion(test_output, y_test).item()\n",
        "    test_pred = test_output.argmax(dim=1)\n",
        "    test_accuracy = (test_pred == y_test).float().mean().item()\n",
        "    \n",
        "    print(f'Epoch: [{epoch + 1}]    Training loss: {train_loss:.3f} Training Accur: {train_accuracy:.3f}    Testing loss: {test_loss:.3f} Testing Accur: {test_accuracy:.3f}')\n",
        "    \n",
        "    training_loss_list.append(train_loss)\n",
        "    testing_loss_list.append(test_loss)\n",
        "\n",
        "    # Check for early stopping\n",
        "    if test_loss < best_loss:\n",
        "        best_loss = test_loss\n",
        "        no_improvement_count = 0\n",
        "    elif no_improvement_count < early_stopping:\n",
        "        no_improvement_count += 1\n",
        "    else:\n",
        "        break\n",
        "\n",
        "print('Finished Training.')"
      ],
      "metadata": {
        "colab": {
          "base_uri": "https://localhost:8080/"
        },
        "id": "jX8azdZhglwT",
        "outputId": "b27c44b4-d900-4020-a7fc-bd176a07b284"
      },
      "execution_count": 106,
      "outputs": [
        {
          "output_type": "stream",
          "name": "stdout",
          "text": [
            "Epoch: [1]    Training loss: 1.119 Training Accur: 0.346    Testing loss: 1.129 Testing Accur: 0.261\n",
            "Epoch: [2]    Training loss: 1.116 Training Accur: 0.346    Testing loss: 1.124 Testing Accur: 0.261\n",
            "Epoch: [3]    Training loss: 1.112 Training Accur: 0.346    Testing loss: 1.119 Testing Accur: 0.261\n",
            "Epoch: [4]    Training loss: 1.109 Training Accur: 0.346    Testing loss: 1.115 Testing Accur: 0.261\n",
            "Epoch: [5]    Training loss: 1.107 Training Accur: 0.346    Testing loss: 1.112 Testing Accur: 0.261\n",
            "Epoch: [6]    Training loss: 1.104 Training Accur: 0.346    Testing loss: 1.109 Testing Accur: 0.261\n",
            "Epoch: [7]    Training loss: 1.103 Training Accur: 0.346    Testing loss: 1.106 Testing Accur: 0.261\n",
            "Epoch: [8]    Training loss: 1.101 Training Accur: 0.409    Testing loss: 1.104 Testing Accur: 0.304\n",
            "Epoch: [9]    Training loss: 1.099 Training Accur: 0.472    Testing loss: 1.101 Testing Accur: 0.391\n",
            "Epoch: [10]    Training loss: 1.098 Training Accur: 0.386    Testing loss: 1.099 Testing Accur: 0.435\n",
            "Epoch: [11]    Training loss: 1.096 Training Accur: 0.315    Testing loss: 1.096 Testing Accur: 0.391\n",
            "Epoch: [12]    Training loss: 1.094 Training Accur: 0.323    Testing loss: 1.094 Testing Accur: 0.391\n",
            "Epoch: [13]    Training loss: 1.093 Training Accur: 0.323    Testing loss: 1.091 Testing Accur: 0.391\n",
            "Epoch: [14]    Training loss: 1.091 Training Accur: 0.323    Testing loss: 1.089 Testing Accur: 0.391\n",
            "Epoch: [15]    Training loss: 1.089 Training Accur: 0.323    Testing loss: 1.086 Testing Accur: 0.391\n",
            "Epoch: [16]    Training loss: 1.087 Training Accur: 0.323    Testing loss: 1.084 Testing Accur: 0.391\n",
            "Epoch: [17]    Training loss: 1.085 Training Accur: 0.323    Testing loss: 1.081 Testing Accur: 0.391\n",
            "Epoch: [18]    Training loss: 1.083 Training Accur: 0.323    Testing loss: 1.078 Testing Accur: 0.391\n",
            "Epoch: [19]    Training loss: 1.081 Training Accur: 0.323    Testing loss: 1.075 Testing Accur: 0.391\n",
            "Epoch: [20]    Training loss: 1.078 Training Accur: 0.323    Testing loss: 1.071 Testing Accur: 0.391\n",
            "Epoch: [21]    Training loss: 1.076 Training Accur: 0.323    Testing loss: 1.068 Testing Accur: 0.391\n",
            "Epoch: [22]    Training loss: 1.073 Training Accur: 0.323    Testing loss: 1.065 Testing Accur: 0.391\n",
            "Epoch: [23]    Training loss: 1.070 Training Accur: 0.323    Testing loss: 1.061 Testing Accur: 0.391\n",
            "Epoch: [24]    Training loss: 1.066 Training Accur: 0.323    Testing loss: 1.057 Testing Accur: 0.391\n",
            "Epoch: [25]    Training loss: 1.063 Training Accur: 0.323    Testing loss: 1.053 Testing Accur: 0.391\n",
            "Epoch: [26]    Training loss: 1.059 Training Accur: 0.323    Testing loss: 1.049 Testing Accur: 0.391\n",
            "Epoch: [27]    Training loss: 1.055 Training Accur: 0.323    Testing loss: 1.045 Testing Accur: 0.391\n",
            "Epoch: [28]    Training loss: 1.050 Training Accur: 0.331    Testing loss: 1.040 Testing Accur: 0.391\n",
            "Epoch: [29]    Training loss: 1.045 Training Accur: 0.331    Testing loss: 1.035 Testing Accur: 0.391\n",
            "Epoch: [30]    Training loss: 1.040 Training Accur: 0.331    Testing loss: 1.030 Testing Accur: 0.391\n",
            "Epoch: [31]    Training loss: 1.035 Training Accur: 0.331    Testing loss: 1.024 Testing Accur: 0.391\n",
            "Epoch: [32]    Training loss: 1.029 Training Accur: 0.339    Testing loss: 1.017 Testing Accur: 0.391\n",
            "Epoch: [33]    Training loss: 1.024 Training Accur: 0.409    Testing loss: 1.011 Testing Accur: 0.391\n",
            "Epoch: [34]    Training loss: 1.018 Training Accur: 0.488    Testing loss: 1.004 Testing Accur: 0.522\n",
            "Epoch: [35]    Training loss: 1.012 Training Accur: 0.598    Testing loss: 0.998 Testing Accur: 0.565\n",
            "Epoch: [36]    Training loss: 1.006 Training Accur: 0.638    Testing loss: 0.991 Testing Accur: 0.652\n",
            "Epoch: [37]    Training loss: 1.000 Training Accur: 0.661    Testing loss: 0.984 Testing Accur: 0.652\n",
            "Epoch: [38]    Training loss: 0.993 Training Accur: 0.661    Testing loss: 0.977 Testing Accur: 0.652\n",
            "Epoch: [39]    Training loss: 0.987 Training Accur: 0.669    Testing loss: 0.970 Testing Accur: 0.652\n",
            "Epoch: [40]    Training loss: 0.980 Training Accur: 0.669    Testing loss: 0.963 Testing Accur: 0.652\n",
            "Epoch: [41]    Training loss: 0.973 Training Accur: 0.669    Testing loss: 0.955 Testing Accur: 0.652\n",
            "Epoch: [42]    Training loss: 0.965 Training Accur: 0.669    Testing loss: 0.948 Testing Accur: 0.652\n",
            "Epoch: [43]    Training loss: 0.957 Training Accur: 0.669    Testing loss: 0.941 Testing Accur: 0.652\n",
            "Epoch: [44]    Training loss: 0.949 Training Accur: 0.669    Testing loss: 0.933 Testing Accur: 0.652\n",
            "Epoch: [45]    Training loss: 0.942 Training Accur: 0.669    Testing loss: 0.926 Testing Accur: 0.652\n",
            "Epoch: [46]    Training loss: 0.934 Training Accur: 0.669    Testing loss: 0.919 Testing Accur: 0.652\n",
            "Epoch: [47]    Training loss: 0.926 Training Accur: 0.669    Testing loss: 0.912 Testing Accur: 0.652\n",
            "Epoch: [48]    Training loss: 0.918 Training Accur: 0.669    Testing loss: 0.905 Testing Accur: 0.652\n",
            "Epoch: [49]    Training loss: 0.911 Training Accur: 0.669    Testing loss: 0.899 Testing Accur: 0.652\n",
            "Epoch: [50]    Training loss: 0.903 Training Accur: 0.669    Testing loss: 0.892 Testing Accur: 0.652\n",
            "Epoch: [51]    Training loss: 0.895 Training Accur: 0.669    Testing loss: 0.885 Testing Accur: 0.652\n",
            "Epoch: [52]    Training loss: 0.887 Training Accur: 0.669    Testing loss: 0.878 Testing Accur: 0.652\n",
            "Epoch: [53]    Training loss: 0.879 Training Accur: 0.669    Testing loss: 0.871 Testing Accur: 0.652\n",
            "Epoch: [54]    Training loss: 0.871 Training Accur: 0.669    Testing loss: 0.865 Testing Accur: 0.652\n",
            "Epoch: [55]    Training loss: 0.863 Training Accur: 0.669    Testing loss: 0.858 Testing Accur: 0.652\n",
            "Epoch: [56]    Training loss: 0.855 Training Accur: 0.669    Testing loss: 0.852 Testing Accur: 0.652\n",
            "Epoch: [57]    Training loss: 0.847 Training Accur: 0.677    Testing loss: 0.846 Testing Accur: 0.652\n",
            "Epoch: [58]    Training loss: 0.839 Training Accur: 0.693    Testing loss: 0.840 Testing Accur: 0.652\n",
            "Epoch: [59]    Training loss: 0.832 Training Accur: 0.717    Testing loss: 0.834 Testing Accur: 0.696\n",
            "Epoch: [60]    Training loss: 0.824 Training Accur: 0.890    Testing loss: 0.829 Testing Accur: 0.783\n",
            "Epoch: [61]    Training loss: 0.817 Training Accur: 0.921    Testing loss: 0.823 Testing Accur: 0.913\n",
            "Epoch: [62]    Training loss: 0.810 Training Accur: 0.732    Testing loss: 0.818 Testing Accur: 0.652\n",
            "Epoch: [63]    Training loss: 0.804 Training Accur: 0.677    Testing loss: 0.813 Testing Accur: 0.609\n",
            "Epoch: [64]    Training loss: 0.797 Training Accur: 0.677    Testing loss: 0.809 Testing Accur: 0.609\n",
            "Epoch: [65]    Training loss: 0.791 Training Accur: 0.677    Testing loss: 0.804 Testing Accur: 0.609\n",
            "Epoch: [66]    Training loss: 0.784 Training Accur: 0.677    Testing loss: 0.800 Testing Accur: 0.609\n",
            "Epoch: [67]    Training loss: 0.778 Training Accur: 0.677    Testing loss: 0.796 Testing Accur: 0.609\n",
            "Epoch: [68]    Training loss: 0.773 Training Accur: 0.677    Testing loss: 0.792 Testing Accur: 0.609\n",
            "Epoch: [69]    Training loss: 0.767 Training Accur: 0.677    Testing loss: 0.789 Testing Accur: 0.609\n",
            "Epoch: [70]    Training loss: 0.762 Training Accur: 0.677    Testing loss: 0.786 Testing Accur: 0.609\n",
            "Epoch: [71]    Training loss: 0.758 Training Accur: 0.677    Testing loss: 0.784 Testing Accur: 0.609\n",
            "Epoch: [72]    Training loss: 0.753 Training Accur: 0.677    Testing loss: 0.782 Testing Accur: 0.609\n",
            "Epoch: [73]    Training loss: 0.750 Training Accur: 0.677    Testing loss: 0.780 Testing Accur: 0.609\n",
            "Epoch: [74]    Training loss: 0.747 Training Accur: 0.677    Testing loss: 0.778 Testing Accur: 0.609\n",
            "Epoch: [75]    Training loss: 0.744 Training Accur: 0.677    Testing loss: 0.776 Testing Accur: 0.609\n",
            "Epoch: [76]    Training loss: 0.742 Training Accur: 0.677    Testing loss: 0.774 Testing Accur: 0.609\n",
            "Epoch: [77]    Training loss: 0.740 Training Accur: 0.677    Testing loss: 0.772 Testing Accur: 0.609\n",
            "Epoch: [78]    Training loss: 0.737 Training Accur: 0.677    Testing loss: 0.770 Testing Accur: 0.609\n",
            "Epoch: [79]    Training loss: 0.735 Training Accur: 0.677    Testing loss: 0.768 Testing Accur: 0.609\n",
            "Epoch: [80]    Training loss: 0.732 Training Accur: 0.677    Testing loss: 0.766 Testing Accur: 0.609\n",
            "Epoch: [81]    Training loss: 0.730 Training Accur: 0.677    Testing loss: 0.764 Testing Accur: 0.609\n",
            "Epoch: [82]    Training loss: 0.728 Training Accur: 0.677    Testing loss: 0.762 Testing Accur: 0.609\n",
            "Epoch: [83]    Training loss: 0.726 Training Accur: 0.677    Testing loss: 0.760 Testing Accur: 0.609\n",
            "Epoch: [84]    Training loss: 0.724 Training Accur: 0.677    Testing loss: 0.758 Testing Accur: 0.609\n",
            "Epoch: [85]    Training loss: 0.722 Training Accur: 0.677    Testing loss: 0.757 Testing Accur: 0.609\n",
            "Epoch: [86]    Training loss: 0.721 Training Accur: 0.677    Testing loss: 0.755 Testing Accur: 0.609\n",
            "Epoch: [87]    Training loss: 0.719 Training Accur: 0.677    Testing loss: 0.754 Testing Accur: 0.609\n",
            "Epoch: [88]    Training loss: 0.717 Training Accur: 0.677    Testing loss: 0.752 Testing Accur: 0.609\n",
            "Epoch: [89]    Training loss: 0.716 Training Accur: 0.677    Testing loss: 0.750 Testing Accur: 0.609\n",
            "Epoch: [90]    Training loss: 0.714 Training Accur: 0.677    Testing loss: 0.749 Testing Accur: 0.609\n",
            "Epoch: [91]    Training loss: 0.713 Training Accur: 0.677    Testing loss: 0.747 Testing Accur: 0.609\n",
            "Epoch: [92]    Training loss: 0.711 Training Accur: 0.677    Testing loss: 0.746 Testing Accur: 0.609\n",
            "Epoch: [93]    Training loss: 0.710 Training Accur: 0.677    Testing loss: 0.745 Testing Accur: 0.609\n",
            "Epoch: [94]    Training loss: 0.708 Training Accur: 0.677    Testing loss: 0.743 Testing Accur: 0.609\n",
            "Epoch: [95]    Training loss: 0.707 Training Accur: 0.677    Testing loss: 0.742 Testing Accur: 0.609\n",
            "Epoch: [96]    Training loss: 0.705 Training Accur: 0.677    Testing loss: 0.740 Testing Accur: 0.609\n",
            "Epoch: [97]    Training loss: 0.704 Training Accur: 0.677    Testing loss: 0.739 Testing Accur: 0.609\n",
            "Epoch: [98]    Training loss: 0.703 Training Accur: 0.677    Testing loss: 0.738 Testing Accur: 0.609\n",
            "Epoch: [99]    Training loss: 0.701 Training Accur: 0.677    Testing loss: 0.736 Testing Accur: 0.609\n",
            "Epoch: [100]    Training loss: 0.700 Training Accur: 0.677    Testing loss: 0.735 Testing Accur: 0.609\n",
            "Finished Training.\n"
          ]
        }
      ]
    },
    {
      "cell_type": "code",
      "source": [
        "x_values = range(len(training_loss_list)) \n",
        "plt.plot(x_values,training_loss_list, label = \"Training Loss\")\n",
        "plt.plot(x_values,testing_loss_list, label = \"Testing Loss\")\n",
        "plt.xlabel('epochs')\n",
        "plt.ylabel('loss')\n",
        "plt.legend()\n",
        "plt.show()"
      ],
      "metadata": {
        "colab": {
          "base_uri": "https://localhost:8080/",
          "height": 279
        },
        "id": "b3E0_HnS0QUn",
        "outputId": "f097ca0f-e2f7-4cba-e3ed-d96c9edbfe6b"
      },
      "execution_count": 107,
      "outputs": [
        {
          "output_type": "display_data",
          "data": {
            "text/plain": [
              "<Figure size 432x288 with 1 Axes>"
            ],
            "image/png": "[encoded data removed]"
          },
          "metadata": {
            "needs_background": "light"
          }
        }
      ]
    }
  ]
}