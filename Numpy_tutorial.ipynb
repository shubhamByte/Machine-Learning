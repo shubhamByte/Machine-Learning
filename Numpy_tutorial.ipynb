{
  "nbformat": 4,
  "nbformat_minor": 0,
  "metadata": {
    "colab": {
      "provenance": [],
      "authorship_tag": "ABX9TyOIhp2uL50oQDYjTUkw7ZLI",
      "include_colab_link": true
    },
    "kernelspec": {
      "name": "python3",
      "display_name": "Python 3"
    },
    "language_info": {
      "name": "python"
    }
  },
  "cells": [
    {
      "cell_type": "markdown",
      "metadata": {
        "id": "view-in-github",
        "colab_type": "text"
      },
      "source": [
        "<a href=\"https://colab.research.google.com/github/shubhamByte/Machine-Learning/blob/main/Numpy_tutorial.ipynb\" target=\"_parent\"><img src=\"https://colab.research.google.com/assets/colab-badge.svg\" alt=\"Open In Colab\"/></a>"
      ]
    },
    {
      "cell_type": "markdown",
      "source": [
        "# List vs numpy array"
      ],
      "metadata": {
        "id": "k9kP5sCG4Sm6"
      }
    },
    {
      "cell_type": "code",
      "execution_count": 2,
      "metadata": {
        "colab": {
          "base_uri": "https://localhost:8080/"
        },
        "id": "bFKDPcys2dyH",
        "outputId": "75fdfe0c-e671-4d59-cc46-7cefaab3e16b"
      },
      "outputs": [
        {
          "output_type": "stream",
          "name": "stdout",
          "text": [
            "[0, 1, 2, 3, 4, 5, 6, 7, 8, 9, 10, 11, 12, 13, 14, 15, 16, 17, 18, 19, 20, 21, 22, 23, 24, 25, 26, 27, 28, 29, 30, 31, 32, 33, 34, 35, 36, 37, 38, 39, 40, 41, 42, 43, 44, 45, 46, 47, 48, 49, 50, 51, 52, 53, 54, 55, 56, 57, 58, 59, 60, 61, 62, 63, 64, 65, 66, 67, 68, 69, 70, 71, 72, 73, 74, 75, 76, 77, 78, 79, 80, 81, 82, 83, 84, 85, 86, 87, 88, 89, 90, 91, 92, 93, 94, 95, 96, 97, 98, 99]\n",
            "[ 0  1  2  3  4  5  6  7  8  9 10 11 12 13 14 15 16 17 18 19 20 21 22 23\n",
            " 24 25 26 27 28 29 30 31 32 33 34 35 36 37 38 39 40 41 42 43 44 45 46 47\n",
            " 48 49 50 51 52 53 54 55 56 57 58 59 60 61 62 63 64 65 66 67 68 69 70 71\n",
            " 72 73 74 75 76 77 78 79 80 81 82 83 84 85 86 87 88 89 90 91 92 93 94 95\n",
            " 96 97 98 99]\n"
          ]
        },
        {
          "output_type": "execute_result",
          "data": {
            "text/plain": [
              "(8, 24)"
            ]
          },
          "metadata": {},
          "execution_count": 2
        }
      ],
      "source": [
        "import numpy as np\n",
        "import sys\n",
        "\n",
        "li_arr = [i for i in range(100)]\n",
        "np_arr = np.arange(100)\n",
        "\n",
        "print(li_arr)\n",
        "print(np_arr)\n",
        "\n",
        "# size difference per item\n",
        "np_arr.itemsize, sys.getsizeof(li_arr[0])"
      ]
    },
    {
      "cell_type": "markdown",
      "source": [
        "Numpy is fast because it supports vectorisation. Vectorisation is a process in which instead of iterating over each element for mathematical opeartion, we do the mathematical opeartion on group of elements(batches) at a single go."
      ],
      "metadata": {
        "id": "9sYQlf4F6FLt"
      }
    },
    {
      "cell_type": "markdown",
      "source": [
        "# Creating numpy arrays"
      ],
      "metadata": {
        "id": "HoVu0U3E8u1z"
      }
    },
    {
      "cell_type": "markdown",
      "source": [
        "1. np.array()\n",
        "\n",
        "\n",
        "---\n",
        "\n",
        "\n",
        "2. np.ones()\n",
        "3. np.zeros()\n",
        "\n",
        "\n",
        "---\n",
        "\n",
        "\n",
        "4. np.full()\n",
        "5. np.empty()\n",
        "\n",
        "\n",
        "---\n",
        "\n",
        "\n",
        "6. np.arange()\n",
        "7. np.linspace()\n",
        "\n",
        "\n",
        "---\n",
        "\n",
        "\n",
        "8. np.identity()\n",
        "9. np.eye()\n",
        "\n",
        "\n",
        "---\n",
        "\n",
        "\n",
        "10. np.random.rand()\n",
        "11. p.random.randint()"
      ],
      "metadata": {
        "id": "QlKv1ea7JfPG"
      }
    },
    {
      "cell_type": "code",
      "source": [
        "a = [1, 2, 3]\n",
        "b = np.array(a)\n",
        "print(b)\n",
        "print(type(b))"
      ],
      "metadata": {
        "colab": {
          "base_uri": "https://localhost:8080/"
        },
        "id": "WRx_DLWm5cor",
        "outputId": "ed1ffdbc-9906-4f55-9404-bc1a599abd21"
      },
      "execution_count": 3,
      "outputs": [
        {
          "output_type": "stream",
          "name": "stdout",
          "text": [
            "[1 2 3]\n",
            "<class 'numpy.ndarray'>\n"
          ]
        }
      ]
    },
    {
      "cell_type": "code",
      "source": [
        "# dtype value is optional.\n",
        "a = [1, 2, 3, '4', 4.5]\n",
        "b = np.array(a, dtype = int)\n",
        "print(b)"
      ],
      "metadata": {
        "colab": {
          "base_uri": "https://localhost:8080/"
        },
        "id": "RkYUhdHT83yO",
        "outputId": "a264d61e-90b5-4433-c147-566aa5bc7b45"
      },
      "execution_count": 4,
      "outputs": [
        {
          "output_type": "stream",
          "name": "stdout",
          "text": [
            "[1 2 3 4 4]\n"
          ]
        }
      ]
    },
    {
      "cell_type": "code",
      "source": [
        "# multiplying with 3 repeats the array three times\n",
        "a = [1, 2, 3, '5', 4.5]\n",
        "b = np.array(a * 3)\n",
        "print(b)"
      ],
      "metadata": {
        "colab": {
          "base_uri": "https://localhost:8080/"
        },
        "id": "NsIKJFVm9BLr",
        "outputId": "2b84ec7d-1dcd-4bea-ce19-ac7f3b92f8fa"
      },
      "execution_count": 5,
      "outputs": [
        {
          "output_type": "stream",
          "name": "stdout",
          "text": [
            "['1' '2' '3' '5' '4.5' '1' '2' '3' '5' '4.5' '1' '2' '3' '5' '4.5']\n"
          ]
        }
      ]
    },
    {
      "cell_type": "code",
      "source": [
        "# default is float in these type of initialzation, can always use dtype as paramter.\n",
        "b = np.ones(3, dtype = int)\n",
        "b"
      ],
      "metadata": {
        "colab": {
          "base_uri": "https://localhost:8080/"
        },
        "id": "TRCndg9M9EWR",
        "outputId": "37ac5eb0-33a7-4907-e803-04c9b327ab24"
      },
      "execution_count": 6,
      "outputs": [
        {
          "output_type": "execute_result",
          "data": {
            "text/plain": [
              "array([1, 1, 1])"
            ]
          },
          "metadata": {},
          "execution_count": 6
        }
      ]
    },
    {
      "cell_type": "code",
      "source": [
        "b = np.ones((2, 3), dtype = int)\n",
        "b"
      ],
      "metadata": {
        "colab": {
          "base_uri": "https://localhost:8080/"
        },
        "id": "l2ke2_Cl9HGi",
        "outputId": "486d57bc-c43d-4234-d095-2852a97e1fa0"
      },
      "execution_count": 7,
      "outputs": [
        {
          "output_type": "execute_result",
          "data": {
            "text/plain": [
              "array([[1, 1, 1],\n",
              "       [1, 1, 1]])"
            ]
          },
          "metadata": {},
          "execution_count": 7
        }
      ]
    },
    {
      "cell_type": "code",
      "source": [
        "b = np.zeros(3, dtype = int)\n",
        "b"
      ],
      "metadata": {
        "colab": {
          "base_uri": "https://localhost:8080/"
        },
        "id": "DW828kUq9Kvu",
        "outputId": "1c1dbd4a-50d8-4339-cac6-0ba99679c0cd"
      },
      "execution_count": 8,
      "outputs": [
        {
          "output_type": "execute_result",
          "data": {
            "text/plain": [
              "array([0, 0, 0])"
            ]
          },
          "metadata": {},
          "execution_count": 8
        }
      ]
    },
    {
      "cell_type": "code",
      "source": [
        "b = np.zeros((3, 4))\n",
        "b"
      ],
      "metadata": {
        "colab": {
          "base_uri": "https://localhost:8080/"
        },
        "id": "MKRAuPrG9NCM",
        "outputId": "406bcad4-62c9-44d0-c755-30a58e5ab323"
      },
      "execution_count": 9,
      "outputs": [
        {
          "output_type": "execute_result",
          "data": {
            "text/plain": [
              "array([[0., 0., 0., 0.],\n",
              "       [0., 0., 0., 0.],\n",
              "       [0., 0., 0., 0.]])"
            ]
          },
          "metadata": {},
          "execution_count": 9
        }
      ]
    },
    {
      "cell_type": "code",
      "source": [
        "# intialisation with particular element, default is int\n",
        "b = np.full((3, 3), 5)\n",
        "b"
      ],
      "metadata": {
        "colab": {
          "base_uri": "https://localhost:8080/"
        },
        "id": "qV6LF7hW9PP-",
        "outputId": "ba0d43e8-6330-434e-b1d9-946679f3c61a"
      },
      "execution_count": 10,
      "outputs": [
        {
          "output_type": "execute_result",
          "data": {
            "text/plain": [
              "array([[5, 5, 5],\n",
              "       [5, 5, 5],\n",
              "       [5, 5, 5]])"
            ]
          },
          "metadata": {},
          "execution_count": 10
        }
      ]
    },
    {
      "cell_type": "code",
      "source": [
        "# random initialzation\n",
        "b = np.empty(4)\n",
        "b"
      ],
      "metadata": {
        "colab": {
          "base_uri": "https://localhost:8080/"
        },
        "id": "cEdoX7Ev9eAP",
        "outputId": "bf6fee51-c180-4409-f8f9-a5cf2a94c1ab"
      },
      "execution_count": 11,
      "outputs": [
        {
          "output_type": "execute_result",
          "data": {
            "text/plain": [
              "array([1.79925665e-316, 0.00000000e+000, 6.94077320e-310, 6.94077320e-310])"
            ]
          },
          "metadata": {},
          "execution_count": 11
        }
      ]
    },
    {
      "cell_type": "code",
      "source": [
        "# arange -> step size,   linspace -> no. of elements   (directly provide)\n",
        "\n",
        "# arange(start, step-size, end(must),...)  , [start, end)\n",
        "b = np.arange(10)\n",
        "b"
      ],
      "metadata": {
        "colab": {
          "base_uri": "https://localhost:8080/"
        },
        "id": "RS-Gfl40DY9w",
        "outputId": "c649e8ce-5393-45e3-a2da-fc5909981099"
      },
      "execution_count": 12,
      "outputs": [
        {
          "output_type": "execute_result",
          "data": {
            "text/plain": [
              "array([0, 1, 2, 3, 4, 5, 6, 7, 8, 9])"
            ]
          },
          "metadata": {},
          "execution_count": 12
        }
      ]
    },
    {
      "cell_type": "code",
      "source": [
        "b = np.arange(2, 10)\n",
        "b"
      ],
      "metadata": {
        "colab": {
          "base_uri": "https://localhost:8080/"
        },
        "id": "sJgmLStIDY7E",
        "outputId": "b7138905-1d6e-4d73-d2fc-fba61718bbe2"
      },
      "execution_count": 13,
      "outputs": [
        {
          "output_type": "execute_result",
          "data": {
            "text/plain": [
              "array([2, 3, 4, 5, 6, 7, 8, 9])"
            ]
          },
          "metadata": {},
          "execution_count": 13
        }
      ]
    },
    {
      "cell_type": "code",
      "source": [
        "b = np.arange(2, 20, 2)\n",
        "b"
      ],
      "metadata": {
        "colab": {
          "base_uri": "https://localhost:8080/"
        },
        "id": "MDS0i7pADY3V",
        "outputId": "6ae43b2e-1d41-4378-8c60-f9d9ea4aa709"
      },
      "execution_count": 14,
      "outputs": [
        {
          "output_type": "execute_result",
          "data": {
            "text/plain": [
              "array([ 2,  4,  6,  8, 10, 12, 14, 16, 18])"
            ]
          },
          "metadata": {},
          "execution_count": 14
        }
      ]
    },
    {
      "cell_type": "code",
      "source": [
        "# [start(must), end(must), no. of elements(default = 0)]      ->  [start, end]\n",
        "\n",
        "b = np.linspace(2, 10)\n",
        "b\n",
        "print(b[1] - b[0])\n",
        "print(b[3] - b[2])"
      ],
      "metadata": {
        "colab": {
          "base_uri": "https://localhost:8080/"
        },
        "id": "6uCnN_QlDYxo",
        "outputId": "8f0e626e-bf34-406b-b1cb-920a37de3581"
      },
      "execution_count": 15,
      "outputs": [
        {
          "output_type": "stream",
          "name": "stdout",
          "text": [
            "0.16326530612244916\n",
            "0.16326530612244916\n"
          ]
        }
      ]
    },
    {
      "cell_type": "code",
      "source": [
        "b = np.linspace(2, 10, 5, dtype = int, endpoint = False)\n",
        "b"
      ],
      "metadata": {
        "colab": {
          "base_uri": "https://localhost:8080/"
        },
        "id": "-uhyRyvCDYuY",
        "outputId": "233f8d56-ce9f-411e-99d3-4bc1297ba005"
      },
      "execution_count": 16,
      "outputs": [
        {
          "output_type": "execute_result",
          "data": {
            "text/plain": [
              "array([2, 3, 5, 6, 8])"
            ]
          },
          "metadata": {},
          "execution_count": 16
        }
      ]
    },
    {
      "cell_type": "code",
      "source": [
        "b = np.identity(3)\n",
        "b"
      ],
      "metadata": {
        "colab": {
          "base_uri": "https://localhost:8080/"
        },
        "id": "7mdoqi4LDYj0",
        "outputId": "90bb2bcd-2ad2-40f4-af06-16c9d361e688"
      },
      "execution_count": 17,
      "outputs": [
        {
          "output_type": "execute_result",
          "data": {
            "text/plain": [
              "array([[1., 0., 0.],\n",
              "       [0., 1., 0.],\n",
              "       [0., 0., 1.]])"
            ]
          },
          "metadata": {},
          "execution_count": 17
        }
      ]
    },
    {
      "cell_type": "code",
      "source": [
        "# can create n * m identity matrix unlike .identity\n",
        "b = np.eye(3, 4)  \n",
        "b"
      ],
      "metadata": {
        "colab": {
          "base_uri": "https://localhost:8080/"
        },
        "id": "plrJ7StaFTY8",
        "outputId": "3d32fe67-7b9d-43ec-cefb-34430ceaddb3"
      },
      "execution_count": 18,
      "outputs": [
        {
          "output_type": "execute_result",
          "data": {
            "text/plain": [
              "array([[1., 0., 0., 0.],\n",
              "       [0., 1., 0., 0.],\n",
              "       [0., 0., 1., 0.]])"
            ]
          },
          "metadata": {},
          "execution_count": 18
        }
      ]
    },
    {
      "cell_type": "code",
      "source": [
        "# random values between 0 and 1\n",
        "b = np.random.rand(3)\n",
        "b"
      ],
      "metadata": {
        "colab": {
          "base_uri": "https://localhost:8080/"
        },
        "id": "stlHkSFoFTWG",
        "outputId": "db7717cb-3a95-4edc-dc28-c6decabf8939"
      },
      "execution_count": 19,
      "outputs": [
        {
          "output_type": "execute_result",
          "data": {
            "text/plain": [
              "array([0.79888136, 0.79596535, 0.1058204 ])"
            ]
          },
          "metadata": {},
          "execution_count": 19
        }
      ]
    },
    {
      "cell_type": "code",
      "source": [
        "# between 0 to 10\n",
        "b = np.random.rand(10)*10\n",
        "b"
      ],
      "metadata": {
        "colab": {
          "base_uri": "https://localhost:8080/"
        },
        "id": "3kTJFCoMFTTX",
        "outputId": "0da2680b-e6bb-479c-d05e-5f568f641066"
      },
      "execution_count": 20,
      "outputs": [
        {
          "output_type": "execute_result",
          "data": {
            "text/plain": [
              "array([8.75795241, 6.18246694, 0.93744511, 6.20741926, 2.6671845 ,\n",
              "       2.34230826, 8.85854927, 2.19367914, 5.67562791, 0.41866746])"
            ]
          },
          "metadata": {},
          "execution_count": 20
        }
      ]
    },
    {
      "cell_type": "code",
      "source": [
        "b = np.random.rand(2, 3)\n",
        "b"
      ],
      "metadata": {
        "colab": {
          "base_uri": "https://localhost:8080/"
        },
        "id": "WgEAJrhQFTLG",
        "outputId": "1441a560-08ec-4120-d27c-7cfdab5add94"
      },
      "execution_count": 21,
      "outputs": [
        {
          "output_type": "execute_result",
          "data": {
            "text/plain": [
              "array([[0.92664601, 0.68360837, 0.40084018],\n",
              "       [0.4541543 , 0.1322166 , 0.61620106]])"
            ]
          },
          "metadata": {},
          "execution_count": 21
        }
      ]
    },
    {
      "cell_type": "code",
      "source": [
        "b = np.random.randint(2,3)\n",
        "b"
      ],
      "metadata": {
        "colab": {
          "base_uri": "https://localhost:8080/"
        },
        "id": "TY302lsBGjf_",
        "outputId": "006c3ee7-6d2e-4ac5-ddf9-17e7d93e9fa1"
      },
      "execution_count": 22,
      "outputs": [
        {
          "output_type": "execute_result",
          "data": {
            "text/plain": [
              "2"
            ]
          },
          "metadata": {},
          "execution_count": 22
        }
      ]
    },
    {
      "cell_type": "code",
      "source": [
        "# random.randint(low, high=None, size=None, dtype=int)        -> [start, end)\n",
        "\n",
        "b = np.random.randint(6, size = 5)\n",
        "b"
      ],
      "metadata": {
        "colab": {
          "base_uri": "https://localhost:8080/"
        },
        "id": "fnIhUcXJGnzg",
        "outputId": "31331815-4188-4371-ff90-1de9b0d034fc"
      },
      "execution_count": 23,
      "outputs": [
        {
          "output_type": "execute_result",
          "data": {
            "text/plain": [
              "array([1, 0, 5, 0, 3])"
            ]
          },
          "metadata": {},
          "execution_count": 23
        }
      ]
    },
    {
      "cell_type": "code",
      "source": [
        "b = np.random.randint(3, 6, size = (2,3))\n",
        "b"
      ],
      "metadata": {
        "colab": {
          "base_uri": "https://localhost:8080/"
        },
        "id": "a90u7uZlIOun",
        "outputId": "8010977f-376e-4f1e-a613-7f6b29bb8cdf"
      },
      "execution_count": 24,
      "outputs": [
        {
          "output_type": "execute_result",
          "data": {
            "text/plain": [
              "array([[3, 4, 5],\n",
              "       [3, 4, 5]])"
            ]
          },
          "metadata": {},
          "execution_count": 24
        }
      ]
    },
    {
      "cell_type": "markdown",
      "source": [
        "# Numpy array Properties"
      ],
      "metadata": {
        "id": "awr3eVk57Phq"
      }
    },
    {
      "cell_type": "markdown",
      "source": [
        "### 1D"
      ],
      "metadata": {
        "id": "sk3Bq_Kt8OuL"
      }
    },
    {
      "cell_type": "code",
      "source": [
        "li = [1, 2, 3, 4, 5]\n",
        "arr = np.array(li)\n",
        "\n",
        "print(li)\n",
        "print(arr)\n"
      ],
      "metadata": {
        "colab": {
          "base_uri": "https://localhost:8080/"
        },
        "id": "kQ7yAmGN7Vjs",
        "outputId": "203d62f4-8dbd-4bfa-bb0d-033eb58ebe89"
      },
      "execution_count": 25,
      "outputs": [
        {
          "output_type": "stream",
          "name": "stdout",
          "text": [
            "[1, 2, 3, 4, 5]\n",
            "[1 2 3 4 5]\n"
          ]
        }
      ]
    },
    {
      "cell_type": "code",
      "source": [
        "print(arr.data)\n",
        "print(arr.dtype)\n",
        "print(arr.shape)\n",
        "print(arr.strides)\n"
      ],
      "metadata": {
        "colab": {
          "base_uri": "https://localhost:8080/"
        },
        "id": "4YnHMcpK745Z",
        "outputId": "c30a8218-ea10-4b8f-fb09-277bbe11d384"
      },
      "execution_count": 27,
      "outputs": [
        {
          "output_type": "stream",
          "name": "stdout",
          "text": [
            "<memory at 0x7fc48f9564c0>\n",
            "int64\n",
            "(5,)\n",
            "(8,)\n"
          ]
        }
      ]
    },
    {
      "cell_type": "markdown",
      "source": [
        "### 2D"
      ],
      "metadata": {
        "id": "1Gfq6P-O8RL_"
      }
    },
    {
      "cell_type": "code",
      "source": [
        "li_2D = [[1, 2, 3, 4], [5, 6, 7, 8], [9, 10, 11, 12], [13, 14, 15, 16]]\n",
        "arr_2d = np.array(li_2D)\n",
        "\n",
        "print(li_2D)\n",
        "print(arr_2d)"
      ],
      "metadata": {
        "colab": {
          "base_uri": "https://localhost:8080/"
        },
        "id": "vJ13ICvC8S5q",
        "outputId": "96931fbe-f3bf-4221-e5f6-1c492f3e6688"
      },
      "execution_count": 28,
      "outputs": [
        {
          "output_type": "stream",
          "name": "stdout",
          "text": [
            "[[1, 2, 3, 4], [5, 6, 7, 8], [9, 10, 11, 12], [13, 14, 15, 16]]\n",
            "[[ 1  2  3  4]\n",
            " [ 5  6  7  8]\n",
            " [ 9 10 11 12]\n",
            " [13 14 15 16]]\n"
          ]
        }
      ]
    },
    {
      "cell_type": "code",
      "source": [
        "print(arr_2d.data)        # pointer to the first element of the data\n",
        "print(arr_2d.dtype)\n",
        "print(arr_2d.shape)\n",
        "print(arr_2d.strides)     # number of bytes to jump to go to  next row , next item in same row"
      ],
      "metadata": {
        "colab": {
          "base_uri": "https://localhost:8080/"
        },
        "id": "WbRoUbOR8uRb",
        "outputId": "de87ddb0-50f0-4dff-e980-0ea9231cb538"
      },
      "execution_count": 29,
      "outputs": [
        {
          "output_type": "stream",
          "name": "stdout",
          "text": [
            "<memory at 0x7fc4876deee0>\n",
            "int64\n",
            "(4, 4)\n",
            "(32, 8)\n"
          ]
        }
      ]
    },
    {
      "cell_type": "markdown",
      "source": [
        "# Slicing and Indexing"
      ],
      "metadata": {
        "id": "IfLZktPXLMV0"
      }
    },
    {
      "cell_type": "code",
      "source": [
        "li = [1, 2, 3, 4, 5]\n",
        "arr = np.array(li)"
      ],
      "metadata": {
        "id": "hwu_BUTmLQNo"
      },
      "execution_count": 26,
      "outputs": []
    },
    {
      "cell_type": "markdown",
      "source": [
        "### 1D - Indexing"
      ],
      "metadata": {
        "id": "oSi5Y6yi_reP"
      }
    },
    {
      "cell_type": "code",
      "source": [
        "print(li[3])\n",
        "print(arr[3])"
      ],
      "metadata": {
        "colab": {
          "base_uri": "https://localhost:8080/"
        },
        "id": "SSQOgNuy9r79",
        "outputId": "9e0d5571-b983-439c-9af9-2337432c7c04"
      },
      "execution_count": 30,
      "outputs": [
        {
          "output_type": "stream",
          "name": "stdout",
          "text": [
            "4\n",
            "4\n",
            "[2, 3]\n",
            "[2 3]\n"
          ]
        }
      ]
    },
    {
      "cell_type": "markdown",
      "source": [
        "### 1D - Slicing"
      ],
      "metadata": {
        "id": "2PFUg1pn_wIu"
      }
    },
    {
      "cell_type": "code",
      "source": [
        "print(li[1:3])\n",
        "print(arr[1:3])\n",
        "\n",
        "# Various omission in slicing\n",
        "# last index given is excluded\n",
        "# start omission  = 0, end omission = length of array\n",
        "print(arr[:3])\n",
        "print(arr[2:])\n",
        "print(arr[:])"
      ],
      "metadata": {
        "colab": {
          "base_uri": "https://localhost:8080/"
        },
        "id": "FQfc2J_F_BVL",
        "outputId": "c2a8302b-b56f-41fc-e66f-ab250f765181"
      },
      "execution_count": 40,
      "outputs": [
        {
          "output_type": "stream",
          "name": "stdout",
          "text": [
            "[2, 3]\n",
            "[2 3]\n",
            "[1 2 3]\n",
            "[3 4 5]\n",
            "[1 2 3 4 5]\n"
          ]
        }
      ]
    },
    {
      "cell_type": "markdown",
      "source": [
        "\n",
        "\n",
        "---\n",
        "\n"
      ],
      "metadata": {
        "id": "2X3hk2ngAA8z"
      }
    },
    {
      "cell_type": "code",
      "source": [
        "li_2d = [[1, 2, 3, 4], [5, 6, 7, 8], [9, 10, 11, 12], [13, 14, 15, 16]]\n",
        "arr_2d = np.array(li_2D)\n",
        "print(arr_2d)"
      ],
      "metadata": {
        "colab": {
          "base_uri": "https://localhost:8080/"
        },
        "id": "X8Ho2CBY-Bdw",
        "outputId": "c822aafc-6a1e-456a-d3f9-f409928975c1"
      },
      "execution_count": 34,
      "outputs": [
        {
          "output_type": "stream",
          "name": "stdout",
          "text": [
            "[[ 1  2  3  4]\n",
            " [ 5  6  7  8]\n",
            " [ 9 10 11 12]\n",
            " [13 14 15 16]]\n"
          ]
        }
      ]
    },
    {
      "cell_type": "markdown",
      "source": [
        "### 2D - Indexing"
      ],
      "metadata": {
        "id": "2jeSc4-wAE5t"
      }
    },
    {
      "cell_type": "code",
      "source": [
        "print(li_2d[2][3])\n",
        "print(arr_2d[2][3])\n",
        "\n",
        "print(arr_2d[2, 3])     # another way to get element using commma, only applicable in numpy array\n"
      ],
      "metadata": {
        "colab": {
          "base_uri": "https://localhost:8080/"
        },
        "id": "ZjZBuuz1-EYJ",
        "outputId": "047fbff0-77ec-497d-97d1-a138a5a7d0e9"
      },
      "execution_count": 35,
      "outputs": [
        {
          "output_type": "stream",
          "name": "stdout",
          "text": [
            "12\n",
            "12\n",
            "12\n"
          ]
        }
      ]
    },
    {
      "cell_type": "markdown",
      "source": [
        "### 2D - Slicing"
      ],
      "metadata": {
        "id": "Y3ZeoxCZAJU4"
      }
    },
    {
      "cell_type": "code",
      "source": [
        "# Row not varying\n",
        "print(li_2d[1][:3])\n",
        "print(arr_2d[1][:3])\n",
        "\n",
        "print(arr_2d[1,:3])   # comma variant"
      ],
      "metadata": {
        "colab": {
          "base_uri": "https://localhost:8080/"
        },
        "id": "wRYVvgwlAMv9",
        "outputId": "e27dbd26-19a0-47f0-ffe8-67c3fb011c57"
      },
      "execution_count": 43,
      "outputs": [
        {
          "output_type": "stream",
          "name": "stdout",
          "text": [
            "[5, 6, 7]\n",
            "[5 6 7]\n",
            "[5 6 7]\n"
          ]
        }
      ]
    },
    {
      "cell_type": "code",
      "source": [
        "# Row varying   -> only numpy array can do it properly bcz it has [,] notation for slicing\n",
        "\n",
        "# here you can understand the subtle difference of meaning in using [][] and [ , ]\n",
        "# in case of [a][b] -> first a bracket is evaluated and then [b] bracket is evaluated on the result of a bracket.\n",
        "# but in case of [, ]  -> both are evaluated together and hence proper slicing is done\n",
        "\n",
        "print(arr_2d[1:4, 2])\n",
        "print(arr_2d[1:4][2])\n",
        "\n",
        "print('----------------\\n')\n",
        "\n",
        "print('li_2d[1:4][2]    ->  ', li_2d[1:4][2])\n",
        "\n",
        "print('li_2d[1:4]       -> ', li_2d[1:4])\n",
        "print('li_2d[2]         ->  ', li_2d[2])"
      ],
      "metadata": {
        "colab": {
          "base_uri": "https://localhost:8080/"
        },
        "id": "xKQ52NnOA5gC",
        "outputId": "a03dcbf8-88d0-40aa-b90e-8e75c2ecf43b"
      },
      "execution_count": 54,
      "outputs": [
        {
          "output_type": "stream",
          "name": "stdout",
          "text": [
            "[ 7 11 15]\n",
            "[13 14 15 16]\n",
            "----------------\n",
            "\n",
            "li_2d[1:4][2]    ->   [13, 14, 15, 16]\n",
            "li_2d[1:4]       ->  [[5, 6, 7, 8], [9, 10, 11, 12], [13, 14, 15, 16]]\n",
            "li_2d[2]         ->   [9, 10, 11, 12]\n"
          ]
        }
      ]
    },
    {
      "cell_type": "code",
      "source": [
        "# both row and column varying example\n",
        "\n",
        "print(arr_2d[:2, 1:3])"
      ],
      "metadata": {
        "colab": {
          "base_uri": "https://localhost:8080/"
        },
        "id": "kOnZvoUBBl6S",
        "outputId": "c016b4cb-d64b-496d-8381-83ccc9218645"
      },
      "execution_count": 57,
      "outputs": [
        {
          "output_type": "stream",
          "name": "stdout",
          "text": [
            "[[2 3]\n",
            " [6 7]]\n"
          ]
        }
      ]
    },
    {
      "cell_type": "markdown",
      "source": [
        "# Mathematical Operaions"
      ],
      "metadata": {
        "id": "Ba8SJRwpEY2o"
      }
    },
    {
      "cell_type": "code",
      "source": [],
      "metadata": {
        "id": "xs1ZikRfEctl"
      },
      "execution_count": null,
      "outputs": []
    }
  ]
}