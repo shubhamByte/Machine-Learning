{
  "nbformat": 4,
  "nbformat_minor": 0,
  "metadata": {
    "colab": {
      "provenance": [],
      "authorship_tag": "ABX9TyOeTfXW2kZq+CtVzr+0tlyn",
      "include_colab_link": true
    },
    "kernelspec": {
      "name": "python3",
      "display_name": "Python 3"
    },
    "language_info": {
      "name": "python"
    }
  },
  "cells": [
    {
      "cell_type": "markdown",
      "metadata": {
        "id": "view-in-github",
        "colab_type": "text"
      },
      "source": [
        "<a href=\"https://colab.research.google.com/github/shubhamByte/Machine-Learning/blob/main/Keras_tutorial.ipynb\" target=\"_parent\"><img src=\"https://colab.research.google.com/assets/colab-badge.svg\" alt=\"Open In Colab\"/></a>"
      ]
    },
    {
      "cell_type": "markdown",
      "source": [
        "# Basic Keras Tutorial"
      ],
      "metadata": {
        "id": "alP99Ec65nmD"
      }
    },
    {
      "cell_type": "markdown",
      "source": [
        "# Steps of creating models in keras:\n",
        "1. Create a model.\n",
        "2. Add Layers.\n",
        "3. Compile.\n",
        "4. Fit.\n",
        "5. Evaluate."
      ],
      "metadata": {
        "id": "MhCdh83FjfUb"
      }
    },
    {
      "cell_type": "markdown",
      "source": [
        "### Create a model"
      ],
      "metadata": {
        "id": "E35VPYGIkclt"
      }
    },
    {
      "cell_type": "markdown",
      "source": [
        "Two types of model generally used -> sequential and functional API model. we will be using sequential in most of the cases."
      ],
      "metadata": {
        "id": "thk_uo_FkxCG"
      }
    },
    {
      "cell_type": "code",
      "execution_count": 1,
      "metadata": {
        "id": "B6l3FCWqiZY9"
      },
      "outputs": [],
      "source": [
        "from keras.models import Sequential\n",
        "from keras.layers import Dense"
      ]
    },
    {
      "cell_type": "code",
      "source": [
        "# Creating a model\n",
        "model = Sequential()"
      ],
      "metadata": {
        "id": "AnSsOXjDkufn"
      },
      "execution_count": 2,
      "outputs": []
    },
    {
      "cell_type": "markdown",
      "source": [
        "### Architecture \n",
        "Useful Parameters:\n",
        "1. Input shape (necessary)\n",
        "2. Activation function (default is linear)\n",
        "3. number of neurons/units per layer (necessary)\n",
        "4. use-biases\n",
        "5. Regularisations\n",
        "6. Initialisers of weights and biases\n",
        "7. Constraints (on weights and biases)"
      ],
      "metadata": {
        "id": "GuIBs4WKtIpp"
      }
    },
    {
      "cell_type": "code",
      "source": [
        "layer1 = Dense(units = 32, activation = 'relu', input_dim = 30)\n",
        "\n",
        "model.add(layer1)\n",
        "# directly write without variable also possible\n",
        "model.add(Dense(units = 16, activation = 'relu'))\n",
        "model.add(Dense(units = 1, activation = 'sigmoid'))"
      ],
      "metadata": {
        "id": "Sq-21AACtIIH"
      },
      "execution_count": 3,
      "outputs": []
    },
    {
      "cell_type": "markdown",
      "source": [
        "### Compilation of model\n",
        "Useful parameters to choose:\n",
        "1. Optimisers (necessary)\n",
        "2. Loss function\n",
        "3. Metrics"
      ],
      "metadata": {
        "id": "i2ndwC91vnXI"
      }
    },
    {
      "cell_type": "code",
      "source": [
        "# for metrics we can provide list. \n",
        "# metrics defines what gets printed during fit and evaluate function calls.  (?)\n",
        "# For catergorical data we use categorical_crossentropy. For 0 , 1 we use binary_crossentropy.\n",
        "\n",
        "model.compile(optimizer = 'adam', loss = 'binary_crossentropy', metrics = ['accuracy'])"
      ],
      "metadata": {
        "id": "w3aYNd1jlE51"
      },
      "execution_count": 4,
      "outputs": []
    },
    {
      "cell_type": "markdown",
      "source": [
        "### Data importing and processing"
      ],
      "metadata": {
        "id": "SHZcXo71yj4m"
      }
    },
    {
      "cell_type": "code",
      "source": [
        "from sklearn import datasets\n",
        "cancer = datasets.load_breast_cancer()\n",
        "from sklearn.model_selection import train_test_split\n",
        "\n",
        "x_train, x_test, y_train, y_test = train_test_split(cancer.data, cancer.target, test_size = 0.2, random_state = 0)\n",
        "\n",
        "# Scaling the data\n",
        "from sklearn.preprocessing import StandardScaler\n",
        "sc = StandardScaler()\n",
        "x_train = sc.fit_transform(x_train)\n",
        "x_test = sc.transform(x_test)\n"
      ],
      "metadata": {
        "id": "ZUYVJtXQypb8"
      },
      "execution_count": 5,
      "outputs": []
    },
    {
      "cell_type": "markdown",
      "source": [
        "### Fit function\n",
        "Useful parameters\n",
        "1. x_train, y_train (necessary)\n",
        "2. Epochs\n",
        "3. Batch-size\n",
        "4. Validation data\n",
        "\n"
      ],
      "metadata": {
        "id": "KEZ29LKhzfue"
      }
    },
    {
      "cell_type": "code",
      "source": [
        "# Model don't train on validation data. It just checks accuracy on it after every epoch.\n",
        "\n",
        "model.fit(x_train, y_train, epochs = 20, batch_size = 50, validation_data = (x_test, y_test))\n",
        "\n",
        "# First accuracy and loss is on training data. Next loss and accuracy is on validation data(which is testind data here)."
      ],
      "metadata": {
        "colab": {
          "base_uri": "https://localhost:8080/"
        },
        "id": "eaWpb_PGy7vP",
        "outputId": "e52dd527-3f01-40af-9d0d-9e14eeb9f0dc"
      },
      "execution_count": 6,
      "outputs": [
        {
          "output_type": "stream",
          "name": "stdout",
          "text": [
            "Epoch 1/20\n",
            "10/10 [==============================] - 1s 21ms/step - loss: 0.6844 - accuracy: 0.6374 - val_loss: 0.5405 - val_accuracy: 0.7982\n",
            "Epoch 2/20\n",
            "10/10 [==============================] - 0s 4ms/step - loss: 0.4928 - accuracy: 0.8791 - val_loss: 0.4064 - val_accuracy: 0.8860\n",
            "Epoch 3/20\n",
            "10/10 [==============================] - 0s 4ms/step - loss: 0.3753 - accuracy: 0.9231 - val_loss: 0.3204 - val_accuracy: 0.8947\n",
            "Epoch 4/20\n",
            "10/10 [==============================] - 0s 3ms/step - loss: 0.2927 - accuracy: 0.9363 - val_loss: 0.2595 - val_accuracy: 0.9211\n",
            "Epoch 5/20\n",
            "10/10 [==============================] - 0s 3ms/step - loss: 0.2302 - accuracy: 0.9473 - val_loss: 0.2173 - val_accuracy: 0.9211\n",
            "Epoch 6/20\n",
            "10/10 [==============================] - 0s 4ms/step - loss: 0.1867 - accuracy: 0.9582 - val_loss: 0.1891 - val_accuracy: 0.9211\n",
            "Epoch 7/20\n",
            "10/10 [==============================] - 0s 3ms/step - loss: 0.1571 - accuracy: 0.9626 - val_loss: 0.1709 - val_accuracy: 0.9298\n",
            "Epoch 8/20\n",
            "10/10 [==============================] - 0s 4ms/step - loss: 0.1378 - accuracy: 0.9626 - val_loss: 0.1571 - val_accuracy: 0.9211\n",
            "Epoch 9/20\n",
            "10/10 [==============================] - 0s 4ms/step - loss: 0.1231 - accuracy: 0.9670 - val_loss: 0.1473 - val_accuracy: 0.9211\n",
            "Epoch 10/20\n",
            "10/10 [==============================] - 0s 6ms/step - loss: 0.1119 - accuracy: 0.9692 - val_loss: 0.1386 - val_accuracy: 0.9298\n",
            "Epoch 11/20\n",
            "10/10 [==============================] - 0s 3ms/step - loss: 0.1039 - accuracy: 0.9692 - val_loss: 0.1315 - val_accuracy: 0.9386\n",
            "Epoch 12/20\n",
            "10/10 [==============================] - 0s 4ms/step - loss: 0.0968 - accuracy: 0.9714 - val_loss: 0.1262 - val_accuracy: 0.9386\n",
            "Epoch 13/20\n",
            "10/10 [==============================] - 0s 3ms/step - loss: 0.0910 - accuracy: 0.9736 - val_loss: 0.1218 - val_accuracy: 0.9386\n",
            "Epoch 14/20\n",
            "10/10 [==============================] - 0s 5ms/step - loss: 0.0868 - accuracy: 0.9758 - val_loss: 0.1182 - val_accuracy: 0.9386\n",
            "Epoch 15/20\n",
            "10/10 [==============================] - 0s 4ms/step - loss: 0.0829 - accuracy: 0.9758 - val_loss: 0.1146 - val_accuracy: 0.9474\n",
            "Epoch 16/20\n",
            "10/10 [==============================] - 0s 3ms/step - loss: 0.0796 - accuracy: 0.9758 - val_loss: 0.1123 - val_accuracy: 0.9474\n",
            "Epoch 17/20\n",
            "10/10 [==============================] - 0s 4ms/step - loss: 0.0768 - accuracy: 0.9758 - val_loss: 0.1100 - val_accuracy: 0.9474\n",
            "Epoch 18/20\n",
            "10/10 [==============================] - 0s 6ms/step - loss: 0.0741 - accuracy: 0.9780 - val_loss: 0.1076 - val_accuracy: 0.9474\n",
            "Epoch 19/20\n",
            "10/10 [==============================] - 0s 5ms/step - loss: 0.0719 - accuracy: 0.9780 - val_loss: 0.1051 - val_accuracy: 0.9474\n",
            "Epoch 20/20\n",
            "10/10 [==============================] - 0s 4ms/step - loss: 0.0697 - accuracy: 0.9780 - val_loss: 0.1038 - val_accuracy: 0.9474\n"
          ]
        },
        {
          "output_type": "execute_result",
          "data": {
            "text/plain": [
              "<keras.callbacks.History at 0x7f5e93f00130>"
            ]
          },
          "metadata": {},
          "execution_count": 6
        }
      ]
    },
    {
      "cell_type": "markdown",
      "source": [
        "### Evaluate and Predict functions"
      ],
      "metadata": {
        "id": "1kzAq3Yz3hos"
      }
    },
    {
      "cell_type": "code",
      "source": [
        "score = model.evaluate(x_test, y_test)\n",
        "score   # along with loss, it will provide the values of list provides as metrics during compilation of model.(here accuracy)"
      ],
      "metadata": {
        "id": "p3h_1uLc0wv3",
        "colab": {
          "base_uri": "https://localhost:8080/"
        },
        "outputId": "03b3483c-2703-41dd-e36f-b9e33f8be28f"
      },
      "execution_count": 7,
      "outputs": [
        {
          "output_type": "stream",
          "name": "stdout",
          "text": [
            "4/4 [==============================] - 0s 2ms/step - loss: 0.1038 - accuracy: 0.9474\n"
          ]
        },
        {
          "output_type": "execute_result",
          "data": {
            "text/plain": [
              "[0.10379143059253693, 0.9473684430122375]"
            ]
          },
          "metadata": {},
          "execution_count": 7
        }
      ]
    },
    {
      "cell_type": "code",
      "source": [
        "predictions = model.predict(x_test)\n",
        "predictions"
      ],
      "metadata": {
        "colab": {
          "base_uri": "https://localhost:8080/"
        },
        "id": "xW9kvjzP4Bok",
        "outputId": "a59deb2d-4aa5-4536-8263-905b1f1a75de"
      },
      "execution_count": 8,
      "outputs": [
        {
          "output_type": "stream",
          "name": "stdout",
          "text": [
            "4/4 [==============================] - 0s 3ms/step\n"
          ]
        },
        {
          "output_type": "execute_result",
          "data": {
            "text/plain": [
              "array([[1.6169021e-02],\n",
              "       [9.7278470e-01],\n",
              "       [9.9630958e-01],\n",
              "       [9.8565912e-01],\n",
              "       [9.9173760e-01],\n",
              "       [9.9807453e-01],\n",
              "       [9.9708861e-01],\n",
              "       [9.9836093e-01],\n",
              "       [9.9976069e-01],\n",
              "       [9.9885488e-01],\n",
              "       [6.4693397e-01],\n",
              "       [8.5074848e-01],\n",
              "       [9.9967247e-01],\n",
              "       [4.1378883e-01],\n",
              "       [4.1485637e-01],\n",
              "       [3.3338483e-02],\n",
              "       [9.9791014e-01],\n",
              "       [3.0856513e-04],\n",
              "       [7.0597064e-03],\n",
              "       [4.4812718e-05],\n",
              "       [1.3695435e-02],\n",
              "       [1.7666951e-02],\n",
              "       [9.8707914e-01],\n",
              "       [9.9733478e-01],\n",
              "       [3.1483609e-03],\n",
              "       [9.9815565e-01],\n",
              "       [9.9966067e-01],\n",
              "       [7.0406524e-03],\n",
              "       [9.9702197e-01],\n",
              "       [3.1930648e-04],\n",
              "       [9.9903816e-01],\n",
              "       [2.2824090e-03],\n",
              "       [8.8927221e-01],\n",
              "       [1.6250247e-02],\n",
              "       [9.9996138e-01],\n",
              "       [1.2313602e-02],\n",
              "       [9.8569113e-01],\n",
              "       [1.8071594e-02],\n",
              "       [9.8385733e-01],\n",
              "       [1.8046008e-02],\n",
              "       [1.7056130e-01],\n",
              "       [9.9917334e-01],\n",
              "       [1.1986862e-01],\n",
              "       [9.9978930e-01],\n",
              "       [6.4978963e-01],\n",
              "       [1.1865372e-04],\n",
              "       [9.9996567e-01],\n",
              "       [9.5228845e-01],\n",
              "       [9.9672765e-01],\n",
              "       [3.2601994e-04],\n",
              "       [5.8628659e-04],\n",
              "       [9.5159039e-02],\n",
              "       [4.4331132e-03],\n",
              "       [9.9784946e-01],\n",
              "       [9.8501527e-01],\n",
              "       [9.9917841e-01],\n",
              "       [9.9796742e-01],\n",
              "       [8.9069277e-01],\n",
              "       [9.9401593e-01],\n",
              "       [2.8279726e-05],\n",
              "       [5.4437194e-02],\n",
              "       [6.1788604e-02],\n",
              "       [9.9907464e-01],\n",
              "       [9.9185950e-01],\n",
              "       [2.5661367e-03],\n",
              "       [8.4002906e-01],\n",
              "       [4.7683486e-08],\n",
              "       [1.0288802e-04],\n",
              "       [1.1262639e-03],\n",
              "       [9.9886912e-01],\n",
              "       [5.8192044e-01],\n",
              "       [6.7527534e-04],\n",
              "       [9.9698734e-01],\n",
              "       [3.9447215e-01],\n",
              "       [3.0798171e-04],\n",
              "       [9.8495549e-01],\n",
              "       [9.9991459e-01],\n",
              "       [9.2878610e-01],\n",
              "       [9.9884689e-01],\n",
              "       [9.9902576e-01],\n",
              "       [2.0362517e-02],\n",
              "       [1.4575529e-06],\n",
              "       [4.5128551e-04],\n",
              "       [9.9258679e-01],\n",
              "       [3.4198292e-02],\n",
              "       [9.9844456e-01],\n",
              "       [9.9937505e-01],\n",
              "       [9.9995703e-01],\n",
              "       [3.3963604e-03],\n",
              "       [2.9794899e-07],\n",
              "       [9.9987280e-01],\n",
              "       [5.7225782e-01],\n",
              "       [2.7434894e-01],\n",
              "       [9.1700582e-05],\n",
              "       [9.9369353e-01],\n",
              "       [9.9813408e-01],\n",
              "       [7.1083906e-04],\n",
              "       [9.4376922e-01],\n",
              "       [9.8701149e-01],\n",
              "       [9.9453324e-01],\n",
              "       [9.9996835e-01],\n",
              "       [9.9711466e-01],\n",
              "       [9.8424971e-01],\n",
              "       [6.9285083e-01],\n",
              "       [3.2874360e-03],\n",
              "       [9.9883235e-01],\n",
              "       [1.4036804e-04],\n",
              "       [9.0122932e-01],\n",
              "       [7.7492821e-01],\n",
              "       [8.6328512e-01],\n",
              "       [9.8227578e-01],\n",
              "       [6.7223591e-04],\n",
              "       [3.6604619e-03],\n",
              "       [7.5296849e-01]], dtype=float32)"
            ]
          },
          "metadata": {},
          "execution_count": 8
        }
      ]
    },
    {
      "cell_type": "markdown",
      "source": [
        "# The end\n",
        "\n",
        "---\n",
        "\n"
      ],
      "metadata": {
        "id": "Zbjd4u0e5hjG"
      }
    }
  ]
}