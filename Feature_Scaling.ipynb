{
  "nbformat": 4,
  "nbformat_minor": 0,
  "metadata": {
    "colab": {
      "provenance": [],
      "authorship_tag": "ABX9TyNUpW3WqosdCtwwXBrXhX2o",
      "include_colab_link": true
    },
    "kernelspec": {
      "name": "python3",
      "display_name": "Python 3"
    },
    "language_info": {
      "name": "python"
    }
  },
  "cells": [
    {
      "cell_type": "markdown",
      "metadata": {
        "id": "view-in-github",
        "colab_type": "text"
      },
      "source": [
        "<a href=\"https://colab.research.google.com/github/shubhamByte/Machine-Learning/blob/main/Feature_Scaling.ipynb\" target=\"_parent\"><img src=\"https://colab.research.google.com/assets/colab-badge.svg\" alt=\"Open In Colab\"/></a>"
      ]
    },
    {
      "cell_type": "code",
      "execution_count": 1,
      "metadata": {
        "id": "6GNL7GtgqWhn"
      },
      "outputs": [],
      "source": [
        "import numpy as np\n",
        "from sklearn import preprocessing"
      ]
    },
    {
      "cell_type": "markdown",
      "source": [
        "# Scaling without saving the parameters"
      ],
      "metadata": {
        "id": "5hy6-OZYrg4O"
      }
    },
    {
      "cell_type": "code",
      "source": [
        "X = np.array([[1,2,3],[4,5,6],[7,8,9]])\n",
        "X\n"
      ],
      "metadata": {
        "colab": {
          "base_uri": "https://localhost:8080/"
        },
        "id": "SfVzgZ_rqdtb",
        "outputId": "fe5dcd08-156a-4f1b-9795-79bf43d336e5"
      },
      "execution_count": 5,
      "outputs": [
        {
          "output_type": "execute_result",
          "data": {
            "text/plain": [
              "array([[1, 2, 3],\n",
              "       [4, 5, 6],\n",
              "       [7, 8, 9]])"
            ]
          },
          "metadata": {},
          "execution_count": 5
        }
      ]
    },
    {
      "cell_type": "markdown",
      "source": [
        "Does scaling such that mean of train data is 0 and variance of train data is 1. But you didn't save the parameters to scale the test data before feeding the model.(disadvantage)"
      ],
      "metadata": {
        "id": "QnKkeVF_qx7s"
      }
    },
    {
      "cell_type": "code",
      "source": [
        "X_scaled = preprocessing.scale(X)\n",
        "X_scaled"
      ],
      "metadata": {
        "colab": {
          "base_uri": "https://localhost:8080/"
        },
        "id": "nlHQtIPoqmJq",
        "outputId": "f9a60a95-3b39-489f-a82c-5c16cf7b14f2"
      },
      "execution_count": 3,
      "outputs": [
        {
          "output_type": "execute_result",
          "data": {
            "text/plain": [
              "array([[-1.22474487, -1.22474487, -1.22474487],\n",
              "       [ 0.        ,  0.        ,  0.        ],\n",
              "       [ 1.22474487,  1.22474487,  1.22474487]])"
            ]
          },
          "metadata": {},
          "execution_count": 3
        }
      ]
    },
    {
      "cell_type": "code",
      "source": [
        "X_scaled.mean(axis = 0), X_scaled.std(axis = 0)"
      ],
      "metadata": {
        "colab": {
          "base_uri": "https://localhost:8080/"
        },
        "id": "fZ-FwyWRrOw6",
        "outputId": "27d2aa58-c739-4fa4-9174-d27287e83279"
      },
      "execution_count": 7,
      "outputs": [
        {
          "output_type": "execute_result",
          "data": {
            "text/plain": [
              "(array([0., 0., 0.]), array([1., 1., 1.]))"
            ]
          },
          "metadata": {},
          "execution_count": 7
        }
      ]
    },
    {
      "cell_type": "markdown",
      "source": [
        "# Scaling and saving the Parameters"
      ],
      "metadata": {
        "id": "-JP0XqqerMK8"
      }
    },
    {
      "cell_type": "code",
      "source": [
        "scaler = preprocessing.StandardScaler()\n",
        "scaler.fit(X)\n",
        "\n",
        "# parameters saved in scaler"
      ],
      "metadata": {
        "colab": {
          "base_uri": "https://localhost:8080/"
        },
        "id": "Sfakfts0quXb",
        "outputId": "9422aa2a-e88a-4a64-d490-907d1cd5ebd7"
      },
      "execution_count": 9,
      "outputs": [
        {
          "output_type": "execute_result",
          "data": {
            "text/plain": [
              "StandardScaler()"
            ]
          },
          "metadata": {},
          "execution_count": 9
        }
      ]
    },
    {
      "cell_type": "code",
      "source": [
        "scaler.transform(X)"
      ],
      "metadata": {
        "colab": {
          "base_uri": "https://localhost:8080/"
        },
        "id": "6wk5ei77rrQ7",
        "outputId": "6e8db8a7-fc62-49c3-bb16-136880faca9c"
      },
      "execution_count": 10,
      "outputs": [
        {
          "output_type": "execute_result",
          "data": {
            "text/plain": [
              "array([[-1.22474487, -1.22474487, -1.22474487],\n",
              "       [ 0.        ,  0.        ,  0.        ],\n",
              "       [ 1.22474487,  1.22474487,  1.22474487]])"
            ]
          },
          "metadata": {},
          "execution_count": 10
        }
      ]
    },
    {
      "cell_type": "code",
      "source": [
        "test = [[1,7,9]]\n",
        "scaler.transform(test)"
      ],
      "metadata": {
        "colab": {
          "base_uri": "https://localhost:8080/"
        },
        "id": "QUYCvpA0r7JP",
        "outputId": "710cd265-27cc-4d09-a7d5-97e95bafbd4a"
      },
      "execution_count": 11,
      "outputs": [
        {
          "output_type": "execute_result",
          "data": {
            "text/plain": [
              "array([[-1.22474487,  0.81649658,  1.22474487]])"
            ]
          },
          "metadata": {},
          "execution_count": 11
        }
      ]
    }
  ]
}