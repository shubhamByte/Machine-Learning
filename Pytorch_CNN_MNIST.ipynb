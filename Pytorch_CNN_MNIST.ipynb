{
  "nbformat": 4,
  "nbformat_minor": 0,
  "metadata": {
    "colab": {
      "provenance": [],
      "authorship_tag": "ABX9TyNQg2eF+Mw2kPqh3aeNjrjB",
      "include_colab_link": true
    },
    "kernelspec": {
      "name": "python3",
      "display_name": "Python 3"
    },
    "language_info": {
      "name": "python"
    }
  },
  "cells": [
    {
      "cell_type": "markdown",
      "metadata": {
        "id": "view-in-github",
        "colab_type": "text"
      },
      "source": [
        "<a href=\"https://colab.research.google.com/github/shubhamByte/Machine-Learning/blob/main/Pytorch_CNN_MNIST.ipynb\" target=\"_parent\"><img src=\"https://colab.research.google.com/assets/colab-badge.svg\" alt=\"Open In Colab\"/></a>"
      ]
    },
    {
      "cell_type": "code",
      "source": [
        "import torch\n",
        "import torch.nn as nn\n",
        "import torch.optim as optim\n",
        "import torchvision.datasets as datasets\n",
        "import torchvision.transforms as transforms\n",
        "\n",
        "import matplotlib.pyplot as plt\n",
        "import numpy as np"
      ],
      "metadata": {
        "id": "PKBPzibTQHDu"
      },
      "execution_count": 12,
      "outputs": []
    },
    {
      "cell_type": "markdown",
      "source": [
        "# Preparing the Dataset"
      ],
      "metadata": {
        "id": "qBhdFE3lQD31"
      }
    },
    {
      "cell_type": "code",
      "execution_count": 13,
      "metadata": {
        "id": "q057un6snJVV"
      },
      "outputs": [],
      "source": [
        "# Transformer\n",
        "# transform = transforms.Compose([transforms.ToTensor(), transforms.Normalize((0.5, 0.5, 0.5), (0.5, 0.5, 0.5))])\n",
        "transform = transforms.Compose([transforms.ToTensor()])\n",
        "\n",
        "# Downloading Data\n",
        "train_data = datasets.MNIST(root='./data', train=True, download=True, transform=transform)\n",
        "test_data = datasets.MNIST(root='./data', train=False, download=True, transform=transform)\n",
        "\n",
        "\n",
        "trainloader = torch.utils.data.DataLoader(train_data, batch_size= 128, shuffle=True)\n",
        "testloader = torch.utils.data.DataLoader(test_data, batch_size= 128, shuffle=False)"
      ]
    },
    {
      "cell_type": "code",
      "source": [
        "classes = train_data.classes\n",
        "print(classes)\n"
      ],
      "metadata": {
        "colab": {
          "base_uri": "https://localhost:8080/"
        },
        "id": "btxiRgoWT-ZG",
        "outputId": "d12f44b8-7caf-4f92-bc4f-df95d2584af6"
      },
      "execution_count": 14,
      "outputs": [
        {
          "output_type": "stream",
          "name": "stdout",
          "text": [
            "['0 - zero', '1 - one', '2 - two', '3 - three', '4 - four', '5 - five', '6 - six', '7 - seven', '8 - eight', '9 - nine']\n"
          ]
        }
      ]
    },
    {
      "cell_type": "code",
      "source": [
        "print(train_data[2][0].shape)"
      ],
      "metadata": {
        "colab": {
          "base_uri": "https://localhost:8080/"
        },
        "id": "uMpSz05DYs9g",
        "outputId": "1d5efb9d-c406-4898-a65a-86be65208b4f"
      },
      "execution_count": 15,
      "outputs": [
        {
          "output_type": "stream",
          "name": "stdout",
          "text": [
            "torch.Size([1, 28, 28])\n"
          ]
        }
      ]
    },
    {
      "cell_type": "markdown",
      "source": [
        "### Visualise the sample data"
      ],
      "metadata": {
        "id": "kldtSBCmX8Cm"
      }
    },
    {
      "cell_type": "code",
      "source": [
        "figure = plt.figure(figsize=(18, 6))\n",
        "cols, rows = 10, 3\n",
        "\n",
        "# labelMap = { 0 :'airplane',  1 :'automobile',  2 : 'bird' ,  3 : 'cat',  4 : 'deer', 5 : 'dog',  6 : 'frog',  7 : 'horse', 8 : 'ship',  9 : 'truck'}\n",
        "\n",
        "for i in range(cols * rows):\n",
        "  img, label = train_data[i]\n",
        "  figure.add_subplot(rows, cols, i + 1)     # starts from 1 that's why added 1\n",
        "\n",
        "  plt.imshow(img.numpy().transpose(1,2,0))\n",
        " \n",
        "  \n",
        "  plt.axis(\"off\")\n",
        "\n",
        "plt.show()\n"
      ],
      "metadata": {
        "colab": {
          "base_uri": "https://localhost:8080/",
          "height": 346
        },
        "id": "f7s44u8nf7Hd",
        "outputId": "ee27e563-7d94-4b0c-8720-15d69bdf4878"
      },
      "execution_count": 16,
      "outputs": [
        {
          "output_type": "display_data",
          "data": {
            "text/plain": [
              "<Figure size 1296x432 with 30 Axes>"
            ],
            "image/png": "[encoded data removed]"
          },
          "metadata": {
            "needs_background": "light"
          }
        }
      ]
    },
    {
      "cell_type": "markdown",
      "source": [
        "# Defining Model"
      ],
      "metadata": {
        "id": "PWv7gNkNSbfg"
      }
    },
    {
      "cell_type": "markdown",
      "source": [
        "### Hyperparameters"
      ],
      "metadata": {
        "id": "Dv8G13KD0a3J"
      }
    },
    {
      "cell_type": "code",
      "source": [
        "input_width = 28\n",
        "input_height = 28\n",
        "input_channels = 1\n",
        "input_pixels = input_width * input_height * input_channels\n",
        "\n",
        "n_conv1 = 32\n",
        "n_conv2 = 64\n",
        "n_conv3 = 64\n",
        "\n",
        "kernelConv = 4\n",
        "stride_conv = 1\n",
        "\n",
        "kernelPool = 3\n",
        "\n",
        "n_hidden = 512\n",
        "n_classes = 10\n",
        "\n",
        "learning_rate = 0.0001\n",
        "num_epochs = 3\n",
        "\n",
        "input_size_to_hidden = 2304       # 7 * 7 * 64"
      ],
      "metadata": {
        "id": "GWoxSxYXtkyr"
      },
      "execution_count": 17,
      "outputs": []
    },
    {
      "cell_type": "code",
      "source": [
        "# CNN architecture\n",
        "class CNN(nn.Module):\n",
        "    def __init__(self):\n",
        "        super(CNN, self).__init__()\n",
        "\n",
        "        # first convolution layer\n",
        "        self.conv1 = nn.Conv2d(in_channels=input_channels, out_channels=n_conv1, kernel_size=kernelConv)\n",
        "        nn.init.kaiming_uniform_(self.conv1.weight, nonlinearity='relu')        # he intialisation\n",
        "        self.act1 = nn.ReLU()                                                   # activation\n",
        "\n",
        "        # second convolution layer\n",
        "        self.conv2 = nn.Conv2d(in_channels=n_conv1, out_channels=n_conv2, kernel_size=kernelConv)\n",
        "        nn.init.kaiming_uniform_(self.conv2.weight, nonlinearity='relu')        # he intialisation\n",
        "        self.act2 = nn.ReLU()                                                   # activation\n",
        "\n",
        "        # third convolution layer\n",
        "        self.conv3 = nn.Conv2d(in_channels=n_conv2, out_channels=n_conv3, kernel_size=kernelConv)\n",
        "        nn.init.kaiming_uniform_(self.conv3.weight, nonlinearity='relu')        # he intialisation\n",
        "        self.act3 = nn.ReLU()                                                   # activation\n",
        "        # pooling\n",
        "        self.pool1 = nn.MaxPool2d(kernel_size = kernelPool, stride = kernelPool)\n",
        "        \n",
        "\n",
        "        # fully connected layer\n",
        "        self.FC1 = nn.Linear(input_size_to_hidden, n_hidden)\n",
        "        nn.init.kaiming_uniform_(self.FC1.weight, nonlinearity='relu')\n",
        "        self.act4 = nn.ReLU()\n",
        "\n",
        "        # output layer\n",
        "        self.FC2 = nn.Linear(n_hidden, n_classes)\n",
        "        nn.init.xavier_uniform_(self.FC2.weight)\n",
        "        self.act5 = nn.LogSoftmax(dim=1)\n",
        "\n",
        "\n",
        "        \n",
        "\n",
        "    # forward overloading\n",
        "    def forward(self, X):\n",
        "        # input to first hidden layer\n",
        "        X = self.conv1(X)\n",
        "        X = self.act1(X)\n",
        "\n",
        "        # second hidden layer\n",
        "        X = self.conv2(X)\n",
        "        X = self.act2(X)\n",
        " \n",
        "        # third hidden layer\n",
        "        X = self.conv3(X)\n",
        "        X = self.act3(X)\n",
        "        X = self.pool1(X)\n",
        "\n",
        "        # flatten\n",
        "        X = X.reshape(-1, 2304)\n",
        "        \n",
        "        # third hidden layer\n",
        "        X = self.FC1(X)\n",
        "        X = self.act4(X)\n",
        "        # output layer\n",
        "        X = self.FC2(X)\n",
        "        X = self.act5(X)\n",
        "        return X\n"
      ],
      "metadata": {
        "id": "8uJboFTHSL6q"
      },
      "execution_count": 18,
      "outputs": []
    },
    {
      "cell_type": "markdown",
      "source": [
        "# Training the model"
      ],
      "metadata": {
        "id": "ejuOH9O3TAJZ"
      }
    },
    {
      "cell_type": "code",
      "source": [
        "model = CNN()\n",
        "optimizer = optim.Adam(model.parameters(), lr = learning_rate) \n",
        "criterion = nn.CrossEntropyLoss()\n",
        "\n",
        "loss_list = []\n",
        "\n",
        "for epoch in range(num_epochs):\n",
        "    running_loss = 0.0\n",
        "    # enumerate mini batches\n",
        "    # i is batch_indx\n",
        "    for i, (inputs, targets) in enumerate(trainloader):\n",
        "        # clear the gradients\n",
        "        optimizer.zero_grad()\n",
        "        # compute the model output\n",
        "        yhat = model(inputs)\n",
        "        # calculate loss\n",
        "        loss = criterion(yhat, targets)\n",
        "        # credit assignment\n",
        "        loss.backward()\n",
        "        # update model weights\n",
        "        optimizer.step()\n",
        "\n",
        "        # print statistics\n",
        "        running_loss += loss.item()\n",
        "        if i % 40 == 39:    # print every 40 mini-batches\n",
        "            print(f'[{epoch + 1}, {i + 1:5d}] loss: {running_loss / 40:.3f}')\n",
        "            loss_list.append(running_loss / 40)\n",
        "            running_loss = 0.0\n",
        "\n",
        "\n",
        "\n",
        "print('Finished Training.')"
      ],
      "metadata": {
        "colab": {
          "base_uri": "https://localhost:8080/"
        },
        "id": "cTnxW_y5TEhq",
        "outputId": "0056df96-c71a-4e1f-828d-1b7532264286"
      },
      "execution_count": 19,
      "outputs": [
        {
          "output_type": "stream",
          "name": "stdout",
          "text": [
            "[1,    40] loss: 1.194\n",
            "[1,    80] loss: 0.333\n",
            "[1,   120] loss: 0.234\n",
            "[1,   160] loss: 0.182\n",
            "[1,   200] loss: 0.146\n",
            "[1,   240] loss: 0.132\n",
            "[1,   280] loss: 0.103\n",
            "[1,   320] loss: 0.118\n",
            "[1,   360] loss: 0.111\n",
            "[1,   400] loss: 0.089\n",
            "[1,   440] loss: 0.083\n",
            "[2,    40] loss: 0.067\n",
            "[2,    80] loss: 0.068\n",
            "[2,   120] loss: 0.063\n",
            "[2,   160] loss: 0.063\n",
            "[2,   200] loss: 0.057\n",
            "[2,   240] loss: 0.060\n",
            "[2,   280] loss: 0.060\n",
            "[2,   320] loss: 0.054\n",
            "[2,   360] loss: 0.051\n",
            "[2,   400] loss: 0.052\n",
            "[2,   440] loss: 0.058\n",
            "[3,    40] loss: 0.049\n",
            "[3,    80] loss: 0.033\n",
            "[3,   120] loss: 0.040\n",
            "[3,   160] loss: 0.038\n",
            "[3,   200] loss: 0.039\n",
            "[3,   240] loss: 0.038\n",
            "[3,   280] loss: 0.038\n",
            "[3,   320] loss: 0.040\n",
            "[3,   360] loss: 0.043\n",
            "[3,   400] loss: 0.047\n",
            "[3,   440] loss: 0.035\n",
            "Finished Training.\n"
          ]
        }
      ]
    },
    {
      "cell_type": "markdown",
      "source": [
        "### Iterations and epochs vs Loss"
      ],
      "metadata": {
        "id": "Mh6VmpOCmSWZ"
      }
    },
    {
      "cell_type": "code",
      "source": [
        "x_values = range(len(loss_list)) \n",
        "plt.plot(x_values,loss_list)\n",
        "plt.xlabel('iterations / 40')\n",
        "plt.ylabel('loss')\n",
        "plt.show()"
      ],
      "metadata": {
        "colab": {
          "base_uri": "https://localhost:8080/",
          "height": 279
        },
        "id": "Vlx3zjrYmQm9",
        "outputId": "5067a628-be1d-4865-d95a-f42276e67ca2"
      },
      "execution_count": 24,
      "outputs": [
        {
          "output_type": "display_data",
          "data": {
            "text/plain": [
              "<Figure size 432x288 with 1 Axes>"
            ],
            "image/png": "[encoded data removed]"
          },
          "metadata": {
            "needs_background": "light"
          }
        }
      ]
    },
    {
      "cell_type": "code",
      "source": [
        "correct = 0\n",
        "total = 0\n",
        "# since we're not training, we don't need to calculate the gradients for our outputs\n",
        "with torch.no_grad():\n",
        "    for data in testloader:\n",
        "        images, labels = data\n",
        "        # calculate outputs by running images through the network\n",
        "        outputs = model(images)\n",
        "        # the class with the highest energy is what we choose as prediction\n",
        "        _, predicted = torch.max(outputs.data, 1)\n",
        "        total += labels.size(0)\n",
        "        correct += (predicted == labels).sum().item()\n",
        "\n",
        "print(f'Accuracy of the network on the 10000 test images: {100 * correct // total} %')"
      ],
      "metadata": {
        "id": "ji9bT39SMIYN",
        "colab": {
          "base_uri": "https://localhost:8080/"
        },
        "outputId": "7a90d9c5-68d8-4a8a-c8e2-d3ebc53ecbaf"
      },
      "execution_count": 25,
      "outputs": [
        {
          "output_type": "stream",
          "name": "stdout",
          "text": [
            "Accuracy of the network on the 10000 test images: 98 %\n"
          ]
        }
      ]
    }
  ]
}